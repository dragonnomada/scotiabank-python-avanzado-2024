{
  "nbformat": 4,
  "nbformat_minor": 0,
  "metadata": {
    "colab": {
      "provenance": []
    },
    "kernelspec": {
      "name": "python3",
      "display_name": "Python 3"
    },
    "language_info": {
      "name": "python"
    }
  },
  "cells": [
    {
      "cell_type": "markdown",
      "source": [
        "# Curso de Python Avanzado\n",
        "\n",
        "<img src=\"https://amei.mx/wp-content/uploads/2016/08/Scotiabank-logo.jpg\" alt=\"Scotiabank Logo\" height=\"60\">\n",
        "<img src=\"https://www.belatrix.com/wp-content/uploads/2023/08/belatrix-logosweb-1.png\" alt=\"Belatrix Logo\" height=\"60\">\n",
        "\n",
        "\n",
        "**[Scotiabank](https://www.scotiabank.com.mx)** | **[Belatrix](https://www.belatrix.com)**\n",
        "\n",
        "Instructor: [Alan Badillo Salas](alan@nomadacode.com)"
      ],
      "metadata": {
        "id": "2PvybNABwXsq"
      }
    },
    {
      "cell_type": "markdown",
      "source": [
        "## Bienvenida\n",
        "\n",
        "Bienvenidos al curso de **Python Avanzado** para Scotiabank, brindado por Belatrix.\n",
        "\n",
        "En este curso aprenderás a desarrollar una programación avanzada con Python.\n",
        "\n",
        "El curso está dirigido a profesionales relacionados al área de desarrollo, soporte y análisis de datos.\n",
        "\n",
        "Se requieren conocimientos previos de Python Intermedio para poder cubrir satisfactoriamente este curso."
      ],
      "metadata": {
        "id": "qCvejvPbxC7e"
      }
    },
    {
      "cell_type": "markdown",
      "source": [
        "## Temario\n",
        "\n",
        "**Módulo 1: Programación Funcional en Python**\n",
        "\n",
        "1. Introducción a la programación funcional\n",
        "2. Funciones de orden superior\n",
        "3. Lambdas y expresiones generadoras\n",
        "\n",
        "**Módulo 2: Diseño de Patrones Avanzados**\n",
        "\n",
        "1. Patrones de diseño comunes en Python\n",
        "2. Aplicación práctica de patrones en el desarrollo de software\n",
        "\n",
        "**Módulo 3: Manipulación Eficiente de Datos**\n",
        "\n",
        "1. Uso avanzado de NumPy y Pandas\n",
        "2. Operaciones vectorizadas y broadcasting\n",
        "\n",
        "**Módulo 4: Concurrencia y Paralelismo en Python**\n",
        "\n",
        "1. Hilos y procesos en Python\n",
        "2. Multiprocessing y Asyncio\n",
        "\n",
        "**Módulo 5: Optimización de Código**\n",
        "\n",
        "1. Estrategias para mejorar el rendimiento\n",
        "2. Perfilado de código y herramientas de optimización\n",
        "\n",
        "**Módulo 6: Seguridad en Desarrollo Python**\n",
        "\n",
        "1. Principios básicos de seguridad\n",
        "2. Mejores prácticas de codificación segura\n",
        "\n",
        "**Módulo 7: Despliegue y Escalabilidad**\n",
        "\n",
        "1. Configuración de entornos de producción\n",
        "2. Estrategias para escalabilidad horizontal y vertical"
      ],
      "metadata": {
        "id": "U9_Bkk5gx9n3"
      }
    },
    {
      "cell_type": "markdown",
      "source": [
        "# Introducción a la Programación Orientada a Objetos"
      ],
      "metadata": {
        "id": "4OcNvu0T_Q_x"
      }
    },
    {
      "cell_type": "markdown",
      "source": [
        "La programación orientada a objetos (POO) es un paradigma de programación basado en el concepto de \"objetos\", que pueden contener datos, en forma de campos, a menudo conocidos como atributos; y código, en forma de procedimientos, a menudo conocidos como métodos. Python, siendo un lenguaje de programación versátil, soporta plenamente la programación orientada a objetos, ofreciendo una manera poderosa y flexible de organizar tu código. Aquí te presento una introducción a la programación orientada a objetos en Python:\n",
        "\n",
        "### Conceptos Básicos de POO\n",
        "\n",
        "- **Clases**: Una clase es un plano o prototipo a partir del cual se crean los objetos. Define un conjunto de atributos y métodos que caracterizan a cualquier objeto de esa clase.\n",
        "\n",
        "- **Objetos**: Un objeto es una instancia de una clase. Un objeto en Python es una encapsulación de variables y funciones en una sola entidad. Los objetos obtienen sus variables y funciones de las clases.\n",
        "\n",
        "- **Atributos**: Son las características de la clase. Se utilizan para almacenar información. Los atributos son variables definidas dentro de una clase.\n",
        "\n",
        "- **Métodos**: Son funciones definidas dentro de una clase y se utilizan para describir los comportamientos de los objetos.\n",
        "\n",
        "### Creando una Clase en Python\n",
        "\n",
        "Para definir una clase en Python, se utiliza la palabra clave `class` seguida del nombre de la clase y dos puntos. A continuación, se definen los métodos y atributos de la clase:\n",
        "\n",
        "```python\n",
        "class MiClase:\n",
        "    # Constructor de la clase\n",
        "    def __init__(self, atributo1, atributo2):\n",
        "        self.atributo1 = atributo1\n",
        "        self.atributo2 = atributo2\n",
        "\n",
        "    # Método de la clase\n",
        "    def mi_metodo(self):\n",
        "        print(f\"Atributo 1 es {self.atributo1} y Atributo 2 es {self.atributo2}\")\n",
        "```\n",
        "\n",
        "### Instanciando Objetos\n",
        "\n",
        "Para crear un objeto (instancia de una clase), simplemente llame a la clase usando el nombre de la clase seguido de paréntesis, pasando los argumentos que el método constructor `__init__` espera:\n",
        "\n",
        "```python\n",
        "mi_objeto = MiClase(\"valor1\", \"valor2\")\n",
        "mi_objeto.mi_metodo()  # Salida: Atributo 1 es valor1 y Atributo 2 es valor2\n",
        "```\n",
        "\n",
        "### Pilares de la POO en Python\n",
        "\n",
        "La programación orientada a objetos en Python se basa en cuatro principios fundamentales:\n",
        "\n",
        "1. **Encapsulación**: Se refiere a la agrupación de datos (atributos) y código (métodos) que opera sobre los datos en una sola unidad o clase, y restringir el acceso a algunos de los componentes de un objeto.\n",
        "\n",
        "2. **Abstracción**: Permite ocultar la complejidad real de un sistema y mostrar solo lo necesario al exterior. Se logra mediante clases abstractas e interfaces.\n",
        "\n",
        "3. **Herencia**: Permite a una clase heredar atributos y métodos de otra, facilitando la reutilización de código y la creación de relaciones jerárquicas entre clases.\n",
        "\n",
        "4. **Polimorfismo**: Significa la capacidad de una entidad (método o objeto) de referirse a instancias de diferentes clases. Python permite el polimorfismo, permitiendo que un mismo método funcione de manera diferente en función del objeto que lo invoca.\n",
        "\n",
        "### Conclusión\n",
        "\n",
        "La programación orientada a objetos en Python es un paradigma poderoso que facilita la escritura de código organizado, reutilizable y fácil de mantener. Al dominar la POO, podrás diseñar soluciones más eficientes y efectivas para tus problemas de programación."
      ],
      "metadata": {
        "id": "fFyOWh36_Wvq"
      }
    },
    {
      "cell_type": "code",
      "source": [
        "class Producto:\n",
        "  def __init__(self, nombre, precio):\n",
        "    #print(f\"Voy a construir un objeto a partir de nombre={nombre} precio=${precio}\")\n",
        "    self.nombre = nombre\n",
        "    self.precio = precio\n",
        "    self.iva = precio * 0.16\n",
        "    self.precio_con_iva = precio + self.iva\n",
        "\n",
        "  def describir(self):\n",
        "    print(\"{:<20} ${:>6.2f} (IVA ${:>6.2f}) | ${:>6.2f}\".format(self.nombre, self.precio, self.iva, self.precio_con_iva))\n",
        "\n",
        "producto1 = Producto(\"Coca-Cola\", 30.5) # producto1 -> objeto | Producto -> clase | Producto() -> instanciación (llamar al método de construcción \"__init__\")\n",
        "\n",
        "print(producto1)\n",
        "print(producto1.nombre, type(producto1.nombre))\n",
        "print(producto1.precio, type(producto1.precio))\n",
        "print(producto1.iva, type(producto1.iva))\n",
        "print(producto1.precio_con_iva, type(producto1.precio_con_iva))\n",
        "\n",
        "producto1.describir()"
      ],
      "metadata": {
        "colab": {
          "base_uri": "https://localhost:8080/"
        },
        "id": "tnumqAewJ_-Z",
        "outputId": "85f0985f-85fa-42c9-816b-c9a08e404abc"
      },
      "execution_count": null,
      "outputs": [
        {
          "output_type": "stream",
          "name": "stdout",
          "text": [
            "<__main__.Producto object at 0x797e99c499f0>\n",
            "Coca-Cola <class 'str'>\n",
            "30.5 <class 'float'>\n",
            "4.88 <class 'float'>\n",
            "35.38 <class 'float'>\n",
            "Coca-Cola            $ 30.50 (IVA $  4.88) | $ 35.38\n"
          ]
        }
      ]
    },
    {
      "cell_type": "code",
      "source": [
        "import random\n",
        "\n",
        "for i in range(10):\n",
        "  producto_i = Producto(f\"Producto {i + 1}\", random.uniform(1, 100))\n",
        "  producto_i.describir()"
      ],
      "metadata": {
        "colab": {
          "base_uri": "https://localhost:8080/"
        },
        "id": "9khKySzpMLAV",
        "outputId": "85096766-8505-4de9-a84f-0dadd07c7c98"
      },
      "execution_count": null,
      "outputs": [
        {
          "output_type": "stream",
          "name": "stdout",
          "text": [
            "Producto 1           $ 62.35 (IVA $  9.98) | $ 72.33\n",
            "Producto 2           $ 33.77 (IVA $  5.40) | $ 39.17\n",
            "Producto 3           $ 74.87 (IVA $ 11.98) | $ 86.85\n",
            "Producto 4           $ 39.92 (IVA $  6.39) | $ 46.30\n",
            "Producto 5           $ 34.22 (IVA $  5.48) | $ 39.69\n",
            "Producto 6           $ 68.71 (IVA $ 10.99) | $ 79.71\n",
            "Producto 7           $ 69.61 (IVA $ 11.14) | $ 80.74\n",
            "Producto 8           $ 83.05 (IVA $ 13.29) | $ 96.33\n",
            "Producto 9           $ 45.32 (IVA $  7.25) | $ 52.57\n",
            "Producto 10          $ 80.41 (IVA $ 12.87) | $ 93.27\n"
          ]
        }
      ]
    },
    {
      "cell_type": "code",
      "source": [
        "class Carrito:\n",
        "  def __init__(self):\n",
        "    self.productos = []\n",
        "\n",
        "  def agregarProducto(self, producto):\n",
        "    self.productos.append(producto)\n",
        "\n",
        "  def calcularTotal(self):\n",
        "    from functools import reduce\n",
        "    return reduce(lambda total, producto: total + producto.precio, self.productos, 0.0)\n",
        "\n",
        "  def calcularTotalIva(self):\n",
        "    from functools import reduce\n",
        "    return reduce(lambda total, producto: total + producto.iva, self.productos, 0.0)\n",
        "\n",
        "  def calcularTotalConIva(self):\n",
        "    from functools import reduce\n",
        "    return reduce(lambda total, producto: total + producto.precio_con_iva, self.productos, 0.0)\n",
        "\n",
        "  def describir(self):\n",
        "    print(\"Carrito de compras | Total de productos ({})\".format(len(self.productos)))\n",
        "    print(\"-\" * 54)\n",
        "    if len(self.productos) > 0:\n",
        "      for producto in self.productos:\n",
        "        producto.describir()\n",
        "      print(\"-\" * 54)\n",
        "      total = self.calcularTotal()\n",
        "      total_iva = self.calcularTotalIva()\n",
        "      total_con_iva = self.calcularTotalConIva()\n",
        "      print(\"Total {} ${:>6.2f} (IVA ${:>6.2f}) | ${:6.2f}\".format(\" \" * 14, total, total_iva, total_con_iva))\n",
        "    else:\n",
        "      print(\"  El carrito está vacío 🥲\")\n",
        "    print(\"-\" * 54)\n",
        "    print()\n",
        "\n",
        "carrito1 = Carrito() # self.productos = []\n",
        "\n",
        "carrito1.describir()\n",
        "\n",
        "carrito1.agregarProducto(Producto(\"Coca-Cola 600ml\", 17.5))\n",
        "carrito1.agregarProducto(Producto(\"Pesi 600ml\", 16.5))\n",
        "carrito1.agregarProducto(Producto(\"Gansito\", 21.5))\n",
        "\n",
        "carrito1.describir()"
      ],
      "metadata": {
        "colab": {
          "base_uri": "https://localhost:8080/"
        },
        "id": "qTwlhFmkMiXU",
        "outputId": "748fb7a5-4b61-4ac9-e6c1-db86ff80c8a6"
      },
      "execution_count": null,
      "outputs": [
        {
          "output_type": "stream",
          "name": "stdout",
          "text": [
            "Carrito de compras | Total de productos (0)\n",
            "------------------------------------------------------\n",
            "  El carrito está vacío 🥲\n",
            "------------------------------------------------------\n",
            "\n",
            "Carrito de compras | Total de productos (3)\n",
            "------------------------------------------------------\n",
            "Coca-Cola 600ml      $ 17.50 (IVA $  2.80) | $ 20.30\n",
            "Pesi 600ml           $ 16.50 (IVA $  2.64) | $ 19.14\n",
            "Gansito              $ 21.50 (IVA $  3.44) | $ 24.94\n",
            "------------------------------------------------------\n",
            "Total                $ 55.50 (IVA $  8.88) | $ 64.38\n",
            "------------------------------------------------------\n",
            "\n"
          ]
        }
      ]
    },
    {
      "cell_type": "markdown",
      "source": [
        "# Módulo 2: Diseño de Patrones Avanzados\n",
        "\n",
        "1. Patrones de diseño comunes en Python\n",
        "2. Aplicación práctica de patrones en el desarrollo de software"
      ],
      "metadata": {
        "id": "-z7r3ZDTyXyF"
      }
    },
    {
      "cell_type": "markdown",
      "source": [
        "## 201. Patrones de diseño comunes en Python"
      ],
      "metadata": {
        "id": "Z2z08CFz2m84"
      }
    },
    {
      "cell_type": "markdown",
      "source": [
        "Los patrones de diseño son soluciones generales y reutilizables para los problemas comunes que nos encontramos en el diseño de software. No son plantillas que se puedan traducir directamente en código, sino más bien directrices para abordar ciertos problemas en contextos específicos. En Python, al igual que en otros lenguajes de programación, los patrones de diseño pueden clasificarse en tres tipos principales: creacionales, estructurales y de comportamiento.\n",
        "\n",
        "### Patrones Creacionales\n",
        "Se enfocan en cómo se crean las instancias de objetos. Simplifican la creación de objetos cuando existen complejidades involucradas.\n",
        "\n",
        "1. **Singleton**: Asegura que una clase tenga una única instancia y proporciona un punto de acceso global a esa instancia. En Python, se puede implementar mediante una clase base o decoradores. Es útil manejar recursos compartidos, como una conexión a una base de datos.\n",
        "   \n",
        "2. **Factory Method**: Define una interfaz para crear un objeto, pero deja que las subclases decidan qué clase instanciar. Facilita la extensión del código existente y es útil en entornos colaborativos para definir y expandir tipos de objetos procesados.\n",
        "\n",
        "3. **Builder**: Separa la construcción de un objeto complejo de su representación, permitiendo que el mismo proceso de construcción cree diferentes representaciones. Esto es particularmente útil para crear configuraciones complejas de experimentos o visualizaciones de datos de forma ordenada.\n",
        "\n",
        "### Patrones Estructurales\n",
        "Tratan sobre cómo se componen las clases y objetos para formar estructuras más grandes.\n",
        "\n",
        "1. **Adapter (Adaptador)**: Permite que interfaces incompatibles trabajen juntas. Esto es útil cuando se utilizan bibliotecas o APIs que tienen interfaces distintas de las que el código existente espera.\n",
        "\n",
        "2. **Decorator**: Adjunta responsabilidades adicionales a un objeto de manera dinámica. Los decoradores ofrecen una alternativa flexible a la subclase para extender la funcionalidad, muy útil en Python para añadir funcionalidades en tiempo de ejecución, como logging o manejo de errores en funciones específicas.\n",
        "\n",
        "3. **Proxy**: Proporciona un sustituto o marcador de posición para otro objeto para controlar el acceso a él. Útil para controlar el acceso a recursos que pueden ser costosos de crear.\n",
        "\n",
        "### Patrones de Comportamiento\n",
        "Se centran en la comunicación efectiva y la asignación de responsabilidades entre objetos.\n",
        "\n",
        "1. **Observer**: Define una dependencia de uno-a-muchos entre objetos de manera que cuando un objeto cambia de estado, todos sus dependientes son notificados y actualizados automáticamente. Muy útil para implementar dashboards dinámicos o visualizaciones que se actualizan en respuesta a cambios de datos.\n",
        "\n",
        "2. **Strategy**: Define una familia de algoritmos, encapsula cada uno de ellos, y los hace intercambiables. La estrategia permite que el algoritmo varíe independientemente de los clientes que lo utilizan. Esto es beneficioso para alternar entre diferentes algoritmos de procesamiento de datos o métodos de análisis sin cambiar el código cliente.\n",
        "\n",
        "3. **Command**: Encapsula una solicitud como un objeto, permitiendo parametrizar clientes con colas, solicitudes y operaciones. Puede ser utilizado para implementar operaciones deshacer/rehacer o para programar tareas que pueden ser ejecutadas en diferentes momentos.\n",
        "\n",
        "Estos patrones no solo ayudan a escribir código más limpio y mantenible sino que también facilitan la colaboración, donde múltiples usuarios pueden estar trabajando en el mismo proyecto. Implementar estos patrones correctamente puede llevar a una mejor organización del código, mayor reutilización y una integración más fácil de nuevas características o bibliotecas."
      ],
      "metadata": {
        "id": "WakK49tB96jK"
      }
    },
    {
      "cell_type": "code",
      "source": [
        "# Ejemplo del Singletón\n",
        "\n",
        "class DataSource:\n",
        "  def __init__(self, token):\n",
        "    if token != \"123\":\n",
        "      raise Exception(\"Esta clase requiere un token válido para ser instancia\")\n",
        "    self.data = []\n",
        "\n",
        "  def addPoint(self, point):\n",
        "    self.data.append(point)\n",
        "\n",
        "  def describe(self):\n",
        "    print(f\"Points ({len(self.data)})\")\n",
        "    for point in self.data:\n",
        "      print(point)\n",
        "\n",
        "class DataSourceSingleton:\n",
        "  shared = DataSource(\"123\")\n",
        "\n",
        "DataSourceSingleton.shared.addPoint({ \"x\": 123, \"y\": 456 })\n",
        "DataSourceSingleton.shared.addPoint({ \"x\": 344, \"y\": 657 })\n",
        "DataSourceSingleton.shared.addPoint({ \"x\": 563, \"y\": 111 })\n",
        "DataSourceSingleton.shared.addPoint({ \"x\": 243, \"y\": 223 })\n",
        "DataSourceSingleton.shared.addPoint({ \"x\": 987, \"y\": 143 })\n",
        "DataSourceSingleton.shared.addPoint({ \"x\": 143, \"y\": 998 })\n",
        "\n",
        "DataSourceSingleton.shared.describe()"
      ],
      "metadata": {
        "colab": {
          "base_uri": "https://localhost:8080/"
        },
        "id": "uPhqIawYS3Fq",
        "outputId": "95e4cfd7-7877-44f8-b23f-69e116ba77e1"
      },
      "execution_count": null,
      "outputs": [
        {
          "output_type": "stream",
          "name": "stdout",
          "text": [
            "Points (6)\n",
            "{'x': 123, 'y': 456}\n",
            "{'x': 344, 'y': 657}\n",
            "{'x': 563, 'y': 111}\n",
            "{'x': 243, 'y': 223}\n",
            "{'x': 987, 'y': 143}\n",
            "{'x': 143, 'y': 998}\n"
          ]
        }
      ]
    },
    {
      "cell_type": "code",
      "source": [
        "ds = DataSource(\"???\")"
      ],
      "metadata": {
        "colab": {
          "base_uri": "https://localhost:8080/",
          "height": 273
        },
        "id": "f2hDMoBBW3qv",
        "outputId": "e02891b2-9bc9-4ed8-8f51-ea8718628e8b"
      },
      "execution_count": null,
      "outputs": [
        {
          "output_type": "error",
          "ename": "Exception",
          "evalue": "Esta clase requiere un token válido para ser instancia",
          "traceback": [
            "\u001b[0;31m---------------------------------------------------------------------------\u001b[0m",
            "\u001b[0;31mException\u001b[0m                                 Traceback (most recent call last)",
            "\u001b[0;32m<ipython-input-50-0659533c04d3>\u001b[0m in \u001b[0;36m<cell line: 1>\u001b[0;34m()\u001b[0m\n\u001b[0;32m----> 1\u001b[0;31m \u001b[0mds\u001b[0m \u001b[0;34m=\u001b[0m \u001b[0mDataSource\u001b[0m\u001b[0;34m(\u001b[0m\u001b[0;34m\"???\"\u001b[0m\u001b[0;34m)\u001b[0m\u001b[0;34m\u001b[0m\u001b[0;34m\u001b[0m\u001b[0m\n\u001b[0m",
            "\u001b[0;32m<ipython-input-49-eb3976317f34>\u001b[0m in \u001b[0;36m__init__\u001b[0;34m(self, token)\u001b[0m\n\u001b[1;32m      4\u001b[0m   \u001b[0;32mdef\u001b[0m \u001b[0m__init__\u001b[0m\u001b[0;34m(\u001b[0m\u001b[0mself\u001b[0m\u001b[0;34m,\u001b[0m \u001b[0mtoken\u001b[0m\u001b[0;34m)\u001b[0m\u001b[0;34m:\u001b[0m\u001b[0;34m\u001b[0m\u001b[0;34m\u001b[0m\u001b[0m\n\u001b[1;32m      5\u001b[0m     \u001b[0;32mif\u001b[0m \u001b[0mtoken\u001b[0m \u001b[0;34m!=\u001b[0m \u001b[0;34m\"123\"\u001b[0m\u001b[0;34m:\u001b[0m\u001b[0;34m\u001b[0m\u001b[0;34m\u001b[0m\u001b[0m\n\u001b[0;32m----> 6\u001b[0;31m       \u001b[0;32mraise\u001b[0m \u001b[0mException\u001b[0m\u001b[0;34m(\u001b[0m\u001b[0;34m\"Esta clase requiere un token válido para ser instancia\"\u001b[0m\u001b[0;34m)\u001b[0m\u001b[0;34m\u001b[0m\u001b[0;34m\u001b[0m\u001b[0m\n\u001b[0m\u001b[1;32m      7\u001b[0m     \u001b[0mself\u001b[0m\u001b[0;34m.\u001b[0m\u001b[0mdata\u001b[0m \u001b[0;34m=\u001b[0m \u001b[0;34m[\u001b[0m\u001b[0;34m]\u001b[0m\u001b[0;34m\u001b[0m\u001b[0;34m\u001b[0m\u001b[0m\n\u001b[1;32m      8\u001b[0m \u001b[0;34m\u001b[0m\u001b[0m\n",
            "\u001b[0;31mException\u001b[0m: Esta clase requiere un token válido para ser instancia"
          ]
        }
      ]
    },
    {
      "cell_type": "code",
      "source": [
        "# Ejemplo de Factory Method (Métodos de Fábrica)\n",
        "\n",
        "class SaludarEspañol:\n",
        "\n",
        "  def __init__(self, nombre):\n",
        "    self.nombre = nombre\n",
        "\n",
        "  def saludar(self):\n",
        "    print(f\"Hola {self.nombre} 😊\")\n",
        "\n",
        "class SaludarIngles:\n",
        "\n",
        "  def __init__(self, fecha, veces):\n",
        "    self.fecha = fecha\n",
        "    self.veces = veces\n",
        "\n",
        "  def saludar(self):\n",
        "    for i in range(self.veces):\n",
        "      print(f\"[{self.fecha}] Hello world 👋\")\n",
        "\n",
        "class SaludarRobot:\n",
        "\n",
        "  def __init__(self, marca, modelo):\n",
        "    self.marca = marca\n",
        "    self.modelo = modelo\n",
        "\n",
        "  def saludar(self):\n",
        "    print(f\"[{self.marca} / {self.modelo}] Pipu pipu 🤖\")\n",
        "\n",
        "class Saludador:\n",
        "\n",
        "  def crearSaludoEspañol(self, nombre):\n",
        "    self.instance = SaludarEspañol(nombre)\n",
        "    return self\n",
        "\n",
        "  def crearSaludoIngles(self, fecha, veces):\n",
        "    self.instance = SaludarIngles(fecha, veces)\n",
        "    return self\n",
        "\n",
        "  def crearSaludoRobot(self, marca, modelo):\n",
        "    self.instance = SaludarRobot(marca, modelo)\n",
        "    return self\n",
        "\n",
        "saludador = Saludador().crearSaludoEspañol(\"Beto\")\n",
        "\n",
        "saludador.instance.saludar()"
      ],
      "metadata": {
        "colab": {
          "base_uri": "https://localhost:8080/"
        },
        "id": "xu3xcjybUHv6",
        "outputId": "eaaf32b2-55bb-4bf6-f200-a66f043f253a"
      },
      "execution_count": null,
      "outputs": [
        {
          "output_type": "stream",
          "name": "stdout",
          "text": [
            "Hola Beto 😊\n"
          ]
        }
      ]
    },
    {
      "cell_type": "code",
      "source": [
        "saludador = Saludador().crearSaludoIngles(\"9th, april 2024\", 4)\n",
        "\n",
        "saludador.instance.saludar()"
      ],
      "metadata": {
        "colab": {
          "base_uri": "https://localhost:8080/"
        },
        "id": "UvwOqzN7WWGL",
        "outputId": "55d185f2-9b78-4e7b-877f-be1751fda259"
      },
      "execution_count": null,
      "outputs": [
        {
          "output_type": "stream",
          "name": "stdout",
          "text": [
            "[9th, april 2024] Hello world 👋\n",
            "[9th, april 2024] Hello world 👋\n",
            "[9th, april 2024] Hello world 👋\n",
            "[9th, april 2024] Hello world 👋\n"
          ]
        }
      ]
    },
    {
      "cell_type": "code",
      "source": [
        "saludador = Saludador().crearSaludoRobot(\"Tesla\", \"Tux\")\n",
        "\n",
        "saludador.instance.saludar()"
      ],
      "metadata": {
        "colab": {
          "base_uri": "https://localhost:8080/"
        },
        "id": "hOyYYdP6WgW6",
        "outputId": "f813fbd9-12b8-4363-e0fe-e3e63ed6c040"
      },
      "execution_count": null,
      "outputs": [
        {
          "output_type": "stream",
          "name": "stdout",
          "text": [
            "[Tesla / Tux] Pipu pipu 🤖\n"
          ]
        }
      ]
    },
    {
      "cell_type": "code",
      "source": [
        "# Ejemplo de Builder (Constructor por partes)\n",
        "\n",
        "class TerminalVenta:\n",
        "\n",
        "  def __init__(self, id):\n",
        "    self.id = id\n",
        "    self.iniciada = False\n",
        "\n",
        "  def setVendedor(self, vendedor):\n",
        "    if not vendedor.activo:\n",
        "      raise Exception(\"El vendedor no está activo\")\n",
        "    self.vendedor = vendedor\n",
        "\n",
        "  def iniciar(self):\n",
        "    import random\n",
        "    self.sesionId = random.randint(10_000, 1_000_000)\n",
        "    self.iniciada = True\n",
        "\n",
        "  def cobrar(self):\n",
        "    if not self.iniciada:\n",
        "      raise Exception(\"La terminal no está iniciada\")\n",
        "\n",
        "    print(f\"La terminal {self.id} ha iniciado el proceso de cobro con el vendedor {self.vendedor.nombre}\")\n",
        "\n",
        "class Vendedor:\n",
        "\n",
        "  def __init__(self, id, nombre, activo):\n",
        "    self.id = id\n",
        "    self.nombre = nombre\n",
        "    self.activo = activo\n",
        "\n",
        "# terminal1 = TerminalVenta(123)\n",
        "# terminal1.cobrar() # ERROR: La terminal no está iniciada"
      ],
      "metadata": {
        "id": "bbVTmiJIXR1I"
      },
      "execution_count": null,
      "outputs": []
    },
    {
      "cell_type": "code",
      "source": [
        "vendedores = [\n",
        "    Vendedor(1001, \"Juan Pérez\", True),\n",
        "    Vendedor(1002, \"John Poe\", False),\n",
        "    Vendedor(1003, \"Jorge Jiménez\", True),\n",
        "    Vendedor(1004, \"Paty Rampírez\", True),\n",
        "]\n",
        "\n",
        "def crearTerminalVenta(terminalVentaId, vendedorId):\n",
        "  # 1. Crea la terminal con el terminalVentaId\n",
        "  terminal = TerminalVenta(terminalVentaId)\n",
        "\n",
        "  # 2. Ajusta el vendedor\n",
        "  # Buscar el vendedor\n",
        "  from functools import reduce\n",
        "  vendedor = reduce(lambda encontrado, vendedor: vendedor if vendedor.id == vendedorId else encontrado, vendedores, None)\n",
        "\n",
        "  if vendedor == None:\n",
        "    raise Exception(f\"El vendedor con id {vendedorId} no existe\")\n",
        "\n",
        "  terminal.setVendedor(vendedor)\n",
        "\n",
        "  # 3. Iniciamos la terminal\n",
        "  terminal.iniciar()\n",
        "\n",
        "  return terminal"
      ],
      "metadata": {
        "id": "b73SZIgxYznx"
      },
      "execution_count": null,
      "outputs": []
    },
    {
      "cell_type": "code",
      "source": [
        "terminal = crearTerminalVenta(34, 1004)\n",
        "\n",
        "terminal.cobrar()"
      ],
      "metadata": {
        "id": "OdcPAp7Haj63"
      },
      "execution_count": null,
      "outputs": []
    },
    {
      "cell_type": "code",
      "source": [
        "# Ejemplo de Observador\n",
        "\n",
        "class ObservadorCarrito:\n",
        "\n",
        "  def __init__(self):\n",
        "    self.listeners = [] # son funciones que reciben los eventos\n",
        "\n",
        "  def addListener(self, listener):\n",
        "    self.listeners.append(listener)\n",
        "\n",
        "  def onProductosChange(self, producto, productos): # Renotifica a los listeners (\"suscriptores\")\n",
        "    for listener in self.listeners:\n",
        "      # El evento envia un diccionario con los datos del evento\n",
        "      listener({ \"event\": \"productoChange\", \"data\": (producto, productos) })\n",
        "\n",
        "class Carrito(ObservadorCarrito): # --> HERENCIA\n",
        "\n",
        "  def __init__(self):\n",
        "    ObservadorCarrito.__init__(self) # LLAMADA AL CONSTRUCTOR SUPERIOR\n",
        "    self.productos = []\n",
        "\n",
        "  def agregarProducto(self, producto):\n",
        "    self.productos.append(producto)\n",
        "    self.onProductosChange(producto, self.productos) # desencadena el evento (\"notificación al padre\")\n",
        "\n",
        "  def quitarProducto(self, producto):\n",
        "    producto = self.productos.remove(producto)\n",
        "    self.onProductosChange(producto, self.productos) # desencadena el evento (\"notificación al padre\")"
      ],
      "metadata": {
        "id": "cVsib9IzbeoE"
      },
      "execution_count": null,
      "outputs": []
    },
    {
      "cell_type": "code",
      "source": [
        "carrito1 = Carrito()\n",
        "\n",
        "total = 0\n",
        "\n",
        "def updateTotal(evento):\n",
        "  global total\n",
        "  if evento[\"event\"] == \"productoChange\":\n",
        "    producto, productos = evento[\"data\"]\n",
        "    from functools import reduce\n",
        "    total = reduce(lambda total, producto: total + producto.precio, productos, 0.0)\n",
        "  print(f\"El total ha sido actualizado: {total}\")\n",
        "\n",
        "def tieneCocaCola(evento):\n",
        "  if evento[\"event\"] == \"productoChange\":\n",
        "    producto, productos = evento[\"data\"]\n",
        "\n",
        "    encontrada = False\n",
        "\n",
        "    for producto in productos:\n",
        "      if producto.nombre == \"Coca-Cola\":\n",
        "        encontrada = True\n",
        "\n",
        "    if encontrada:\n",
        "      print(\"Hay una Coca-Cola dentro de los productos\")\n",
        "    else:\n",
        "      print(\"No hay una Coca-Cola dentro de los productos\")\n",
        "\n",
        "carrito1.addListener(updateTotal)\n",
        "carrito1.addListener(tieneCocaCola)\n",
        "\n",
        "cocaCola = Producto(\"Coca-Cola\", 100)\n",
        "\n",
        "carrito1.agregarProducto(cocaCola)\n",
        "carrito1.agregarProducto(Producto(\"Pepsi\", 200))\n",
        "carrito1.agregarProducto(Producto(\"Galletar Marías\", 500))\n",
        "carrito1.quitarProducto(cocaCola)\n",
        "\n",
        "print(total)"
      ],
      "metadata": {
        "colab": {
          "base_uri": "https://localhost:8080/"
        },
        "id": "Az4WsEqJdMwo",
        "outputId": "e8bf92bb-98e1-465d-9d9b-ec1a3a92ee3b"
      },
      "execution_count": null,
      "outputs": [
        {
          "output_type": "stream",
          "name": "stdout",
          "text": [
            "El total ha sido actualizado: 100.0\n",
            "Hay una Coca-Cola dentro de los productos\n",
            "El total ha sido actualizado: 300.0\n",
            "Hay una Coca-Cola dentro de los productos\n",
            "El total ha sido actualizado: 800.0\n",
            "Hay una Coca-Cola dentro de los productos\n",
            "El total ha sido actualizado: 700.0\n",
            "No hay una Coca-Cola dentro de los productos\n",
            "700.0\n"
          ]
        }
      ]
    },
    {
      "cell_type": "markdown",
      "source": [
        "## 202. Aplicación práctica de patrones en el desarrollo de software\n",
        "\n",
        "---\n",
        "\n"
      ],
      "metadata": {
        "id": "mz7MhjTm2pto"
      }
    },
    {
      "cell_type": "code",
      "source": [
        "# Sistema de Venta de Frutas\n",
        "\n",
        "# 1. Definir las clase Fruta y CanastaFrutas\n",
        "\n",
        "class Fruta:\n",
        "  def __init__(self, id, nombre, precio):\n",
        "    self.id = id\n",
        "    self.nombre = nombre\n",
        "    self.precio = precio\n",
        "\n",
        "  def describir(self):\n",
        "    ...\n",
        "\n",
        "class CanastaFrutas:\n",
        "\n",
        "  def __init__(self):\n",
        "    self.frutas = []\n",
        "\n",
        "  def agregarFruta(self, id, nombre, precio):\n",
        "    self.frutas.append(Fruta(id, nombre, precio))\n",
        "\n",
        "  def quitarFruta(self, id):\n",
        "    for index, fruta in enumerate(self.frutas):\n",
        "      if fruta.id == id:\n",
        "        self.frutas.pop(index)\n",
        "        return\n",
        "    raise Exception(f\"La fruta con id {id} no existe\")\n",
        "\n",
        "# > Realiza unas pruebas y calcula los totales\n",
        "\n",
        "# 2. Definir el ObservadorCansataFrutas\n",
        "\n",
        "# > Observa cuando se agrega una fruta\n",
        "# > Observa cuando se quita una fruta\n",
        "\n",
        "# 3. Redefinir la CanastaFrutas y adaptar el ObservadorCansataFrutas"
      ],
      "metadata": {
        "id": "i1kbxHKObL9T"
      },
      "execution_count": null,
      "outputs": []
    }
  ]
}