{
  "nbformat": 4,
  "nbformat_minor": 0,
  "metadata": {
    "colab": {
      "provenance": []
    },
    "kernelspec": {
      "name": "python3",
      "display_name": "Python 3"
    },
    "language_info": {
      "name": "python"
    }
  },
  "cells": [
    {
      "cell_type": "markdown",
      "source": [
        "# Curso de Python Avanzado\n",
        "\n",
        "<img src=\"https://amei.mx/wp-content/uploads/2016/08/Scotiabank-logo.jpg\" alt=\"Scotiabank Logo\" height=\"60\">\n",
        "<img src=\"https://www.belatrix.com/wp-content/uploads/2023/08/belatrix-logosweb-1.png\" alt=\"Belatrix Logo\" height=\"60\">\n",
        "\n",
        "\n",
        "**[Scotiabank](https://www.scotiabank.com.mx)** | **[Belatrix](https://www.belatrix.com)**\n",
        "\n",
        "Instructor: [Alan Badillo Salas](alan@nomadacode.com)"
      ],
      "metadata": {
        "id": "2PvybNABwXsq"
      }
    },
    {
      "cell_type": "markdown",
      "source": [
        "## Bienvenida\n",
        "\n",
        "Bienvenidos al curso de **Python Avanzado** para Scotiabank, brindado por Belatrix.\n",
        "\n",
        "En este curso aprenderás a desarrollar una programación avanzada con Python.\n",
        "\n",
        "El curso está dirigido a profesionales relacionados al área de desarrollo, soporte y análisis de datos.\n",
        "\n",
        "Se requieren conocimientos previos de Python Intermedio para poder cubrir satisfactoriamente este curso."
      ],
      "metadata": {
        "id": "qCvejvPbxC7e"
      }
    },
    {
      "cell_type": "markdown",
      "source": [
        "## Temario\n",
        "\n",
        "**Módulo 1: Programación Funcional en Python**\n",
        "\n",
        "1. Introducción a la programación funcional\n",
        "2. Funciones de orden superior\n",
        "3. Lambdas y expresiones generadoras\n",
        "\n",
        "**Módulo 2: Diseño de Patrones Avanzados**\n",
        "\n",
        "1. Patrones de diseño comunes en Python\n",
        "2. Aplicación práctica de patrones en el desarrollo de software\n",
        "\n",
        "**Módulo 3: Manipulación Eficiente de Datos**\n",
        "\n",
        "1. Uso avanzado de NumPy y Pandas\n",
        "2. Operaciones vectorizadas y broadcasting\n",
        "\n",
        "**Módulo 4: Concurrencia y Paralelismo en Python**\n",
        "\n",
        "1. Hilos y procesos en Python\n",
        "2. Multiprocessing y Asyncio\n",
        "\n",
        "**Módulo 5: Optimización de Código**\n",
        "\n",
        "1. Estrategias para mejorar el rendimiento\n",
        "2. Perfilado de código y herramientas de optimización\n",
        "\n",
        "**Módulo 6: Seguridad en Desarrollo Python**\n",
        "\n",
        "1. Principios básicos de seguridad\n",
        "2. Mejores prácticas de codificación segura\n",
        "\n",
        "**Módulo 7: Despliegue y Escalabilidad**\n",
        "\n",
        "1. Configuración de entornos de producción\n",
        "2. Estrategias para escalabilidad horizontal y vertical"
      ],
      "metadata": {
        "id": "U9_Bkk5gx9n3"
      }
    },
    {
      "cell_type": "markdown",
      "source": [
        "## Módulo 4: Concurrencia y Paralelismo en Python\n",
        "\n",
        "1. Hilos y procesos en Python\n",
        "2. Multiprocessing y Asyncio"
      ],
      "metadata": {
        "id": "dRWDaLtuvW6-"
      }
    },
    {
      "cell_type": "markdown",
      "source": [
        "Los hilos y procesos en Python son esenciales para entender la programación concurrente y paralela, aspectos fundamentales en el desarrollo de aplicaciones eficientes y rápidas.\n",
        "\n",
        "### Hilos (Threads)\n",
        "Los hilos son una forma de ejecutar múltiples tareas o subprocesos simultáneamente, permitiendo que una aplicación realice múltiples operaciones al mismo tiempo. En Python, el módulo `threading` es una de las maneras de implementar hilos.\n",
        "\n",
        "#### Características de los Hilos:\n",
        "- **Comparten memoria**: Los hilos de un mismo proceso comparten el mismo espacio de memoria, lo que facilita la comunicación entre ellos pero también requiere la gestión de acceso concurrente a recursos compartidos.\n",
        "- **GIL (Global Interpreter Lock)**: Python tiene un mecanismo llamado GIL que permite que solo un hilo se ejecute en el intérprete en cualquier momento dado. Esto puede ser un limitante cuando se busca obtener beneficios de múltiples núcleos de CPU en operaciones intensivas de CPU.\n",
        "\n",
        "#### Ejemplo de uso de `threading`:\n",
        "```python\n",
        "import threading\n",
        "\n",
        "def funcion_para_hilo():\n",
        "    print(\"Hilo en ejecución\")\n",
        "\n",
        "# Crear un hilo\n",
        "hilo = threading.Thread(target=funcion_para_hilo)\n",
        "hilo.start()\n",
        "\n",
        "# Esperar a que el hilo termine\n",
        "hilo.join()\n",
        "print(\"Hilo finalizado\")\n",
        "```\n",
        "\n",
        "### Procesos\n",
        "Los procesos son instancias completamente independientes del intérprete de Python. Cada proceso tiene su propio espacio de memoria y su propio intérprete. Esto los hace más robustos en términos de aislamiento y seguridad, pero más costosos en términos de recursos y comunicación.\n",
        "\n",
        "#### Características de los Procesos:\n",
        "- **Memoria independiente**: Cada proceso tiene su propio espacio de memoria.\n",
        "- **No afectados por el GIL**: Multiprocesamiento en Python permite aprovechar múltiples CPU y núcleos porque cada proceso tiene su propio intérprete de Python y, por lo tanto, su propio GIL.\n",
        "\n",
        "#### Ejemplo de uso de `multiprocessing`:\n",
        "```python\n",
        "from multiprocessing import Process\n",
        "\n",
        "def funcion_para_proceso():\n",
        "    print(\"Proceso en ejecución\")\n",
        "\n",
        "# Crear un proceso\n",
        "proceso = Process(target=funcion_para_proceso)\n",
        "proceso.start()\n",
        "\n",
        "# Esperar a que el proceso termine\n",
        "proceso.join()\n",
        "print(\"Proceso finalizado\")\n",
        "```\n",
        "\n",
        "### Cuándo usar Hilos vs Procesos\n",
        "- **Uso de Hilos**: Cuando la tarea implica operaciones de E/S o espera activa, y se puede beneficiar de la compartición fácil de información.\n",
        "- **Uso de Procesos**: Cuando la tarea es intensiva en CPU y se desea evitar el GIL para mejorar el rendimiento utilizando múltiples núcleos de CPU.\n",
        "\n",
        "En resumen, la elección entre hilos y procesos depende del tipo de tarea que necesitas realizar y de los recursos del sistema. En el contexto de Python, es crucial comprender estos conceptos para diseñar aplicaciones que sean tanto eficientes como efectivas."
      ],
      "metadata": {
        "id": "_WQmhs_Pt093"
      }
    },
    {
      "cell_type": "markdown",
      "source": [
        "### Ejemplo del uso de hilos para simular una venta\n",
        "\n",
        "Vamos a ver cómo implementar un hilo en Python que utilice parámetros para simular una venta de cliente. En este ejemplo, vamos a usar el módulo `threading` para crear un hilo que maneje la información de una venta, como el nombre del cliente y el monto de la venta.\n",
        "\n",
        "### Ejemplo: Simulación de Venta de Cliente con Hilos\n",
        "\n",
        "Primero, vamos a definir una función que represente la acción de procesar una venta. Esta función recibirá el nombre del cliente y el monto de la venta como parámetros. Luego, crearemos un hilo para cada venta simulada, pasando los argumentos necesarios a la función.\n",
        "\n",
        "Aquí tienes el código:\n",
        "\n",
        "```python\n",
        "import threading\n",
        "import time\n",
        "\n",
        "def procesar_venta(nombre_cliente, monto_venta):\n",
        "    print(f\"Procesando venta para {nombre_cliente} por un monto de ${monto_venta}\")\n",
        "    # Simulamos algún procesamiento que toma tiempo\n",
        "    time.sleep(2)\n",
        "    print(f\"Venta procesada para {nombre_cliente}: ${monto_venta}\")\n",
        "\n",
        "# Lista de ventas a procesar\n",
        "ventas = [\n",
        "    (\"Alice\", 200),\n",
        "    (\"Bob\", 150),\n",
        "    (\"Charlie\", 300)\n",
        "]\n",
        "\n",
        "hilos = []\n",
        "\n",
        "# Crear un hilo para cada venta\n",
        "for nombre, monto in ventas:\n",
        "    hilo = threading.Thread(target=procesar_venta, args=(nombre, monto))\n",
        "    hilos.append(hilo)\n",
        "    hilo.start()\n",
        "\n",
        "# Esperar a que todos los hilos terminen\n",
        "for hilo in hilos:\n",
        "    hilo.join()\n",
        "\n",
        "print(\"Todas las ventas han sido procesadas.\")\n",
        "```\n",
        "\n",
        "### Explicación del Código:\n",
        "\n",
        "1. **Definición de la Función:** `procesar_venta` toma dos parámetros: `nombre_cliente` y `monto_venta`. Esta función simplemente imprime un mensaje para simular el procesamiento de una venta.\n",
        "\n",
        "2. **Simulación de Procesamiento:** Usamos `time.sleep(2)` para simular que el procesamiento de la venta toma algo de tiempo. Esto ayuda a visualizar cómo los hilos operan en paralelo.\n",
        "\n",
        "3. **Creación de Hilos:** Iteramos sobre la lista de `ventas` y creamos un hilo para cada una. Pasamos `nombre` y `monto` a la función `procesar_venta` a través del argumento `args`.\n",
        "\n",
        "4. **Inicio de Hilos:** Cada hilo se inicia con `hilo.start()`.\n",
        "\n",
        "5. **Espera de Hilos:** `hilo.join()` asegura que el programa principal espere a que todos los hilos terminen antes de imprimir que todas las ventas han sido procesadas.\n",
        "\n",
        "Este enfoque es útil en escenarios reales donde, por ejemplo, podrías necesitar procesar múltiples transacciones de clientes de manera concurrente, optimizando así los tiempos de respuesta en sistemas que manejan un alto volumen de operaciones."
      ],
      "metadata": {
        "id": "nKVsOKGGt7Pd"
      }
    },
    {
      "cell_type": "markdown",
      "source": [
        "### Multiprocessing\n",
        "\n",
        "En Python, `multiprocessing` es un módulo que permite crear procesos, cada uno con su propio intérprete de Python y espacio de memoria. Esto significa que puedes realizar computación paralela en Python, superando el Global Interpreter Lock (GIL) que limita la ejecución simultánea de múltiples hilos en el mismo intérprete.\n",
        "\n",
        "#### Características de `multiprocessing`:\n",
        "- **Paralelismo real**: A diferencia de los hilos, que son limitados por el GIL, `multiprocessing` permite que cada proceso ejecute tareas en paralelo en diferentes núcleos del procesador.\n",
        "- **Seguridad de memoria**: Dado que cada proceso tiene su propio espacio de memoria, los procesos no comparten datos a menos que explícitamente se configure para hacerlo (por ejemplo, usando `multiprocessing.Queue` o `multiprocessing.Pipe`).\n",
        "\n",
        "#### Uso típico:\n",
        "`multiprocessing` es especialmente útil para tareas que son intensivas en CPU, como procesamiento de imágenes, operaciones matemáticas pesadas, etc., donde el paralelismo puede significar una mejora significativa en el rendimiento.\n",
        "\n",
        "### Ejemplo de `multiprocessing`:\n",
        "```python\n",
        "from multiprocessing import Process\n",
        "\n",
        "def tarea_proceso(num):\n",
        "    print(f\"Proceso {num} ejecutándose\")\n",
        "\n",
        "procesos = []\n",
        "for i in range(5):  # Crear 5 procesos\n",
        "    p = Process(target=tarea_proceso, args=(i,))\n",
        "    procesos.append(p)\n",
        "    p.start()\n",
        "\n",
        "for p in procesos:\n",
        "    p.join()  # Esperar a que todos los procesos terminen\n",
        "\n",
        "print(\"Todos los procesos han finalizado.\")\n",
        "```\n",
        "\n",
        "### Asyncio\n",
        "\n",
        "`asyncio` es un módulo de Python que proporciona un marco para escribir código concurrente utilizando la sintaxis `async`/`await`. Es utilizado principalmente para escribir código asincrónico para operaciones basadas en E/S (como accesos a la web, bases de datos y archivos).\n",
        "\n",
        "#### Características de `asyncio`:\n",
        "- **Asincronía**: Permite que el código se ejecute de manera no bloqueante mediante el uso de corutinas que se suspenden y reanudan en puntos de espera.\n",
        "- **Gestión de eventos**: Usa un bucle de eventos para manejar todas las operaciones asincrónicas. El bucle de eventos es el núcleo de cada programa asyncio, proporcionando una manera de programar y gestionar un alto nivel de concurrencia.\n",
        "\n",
        "#### Uso típico:\n",
        "`asyncio` es ideal para aplicaciones de red, servidores web, y otras operaciones que son I/O-bound más que CPU-bound, donde la asincronía puede reducir el tiempo de espera y aumentar la eficiencia.\n",
        "\n",
        "### Ejemplo de `asyncio`:\n",
        "```python\n",
        "import asyncio\n",
        "\n",
        "async def tarea_asincrona(num):\n",
        "    print(f\"Comenzando tarea {num}\")\n",
        "    await asyncio.sleep(1)  # Simular I/O con sleep\n",
        "    print(f\"Tarea {num} completada\")\n",
        "\n",
        "async def main():\n",
        "    # Ejecutar tres tareas asincrónicas\n",
        "    await asyncio.gather(\n",
        "        tarea_asincrona(1),\n",
        "        tarea_asincrona(2),\n",
        "        tarea_asincrona(3)\n",
        "    )\n",
        "\n",
        "# Ejecutar el bucle de eventos\n",
        "asyncio.run(main())\n",
        "```\n",
        "\n",
        "### Comparación entre `multiprocessing` y `asyncio`\n",
        "\n",
        "- **Cuándo usar `multiprocessing`**: Cuando necesitas superar el GIL para realizar computación intensiva en CPU que puede beneficiarse de múltiples núcleos.\n",
        "- **Cuándo usar `asyncio`**: Para aplicaciones que realizan muchas operaciones de E/S y donde la capacidad de manejar muchas conexiones simultáneas es crucial.\n",
        "\n",
        "Ambas tecnologías tienen su lugar en el ecosistema de Python y se pueden combinar para aprovechar sus respectivas ventajas en aplicaciones complejas."
      ],
      "metadata": {
        "id": "9YeGkcc3uMjo"
      }
    },
    {
      "cell_type": "markdown",
      "source": [
        "### Ejemplo de la descarga en paralelo con Threading"
      ],
      "metadata": {
        "id": "yuydf2E2cOhZ"
      }
    },
    {
      "cell_type": "code",
      "source": [
        "import requests\n",
        "import time\n",
        "from threading import Thread\n",
        "\n",
        "def tarea_hilo(num):\n",
        "    print(f\"Hilo {num} ejecutándose\")\n",
        "\n",
        "    # URL del archivo que quieres descargar\n",
        "    url = 'https://archive.ics.uci.edu/static/public/360/air+quality.zip'\n",
        "\n",
        "    # Realizar la petición GET para obtener el contenido del archivo\n",
        "    respuesta = requests.get(url)\n",
        "\n",
        "    # Verificar si la petición fue exitosa (código de estado 200)\n",
        "    if respuesta.status_code == 200:\n",
        "        # Escribir el contenido descargado en un archivo local\n",
        "        with open(f'source_{num}.zip', 'wb') as archivo:\n",
        "            archivo.write(respuesta.content)\n",
        "        print(\"¡Descarga exitosa!\")\n",
        "    else:\n",
        "        print(\"Error al descargar el archivo:\", respuesta.status_code)\n",
        "    print(f\"Hilo {num} terminado\")\n",
        "\n",
        "start = time.time()\n",
        "hilos = []\n",
        "for i in range(5):  # Crear 5 procesos\n",
        "    t = Thread(target=tarea_hilo, args=(i,))\n",
        "    hilos.append(t)\n",
        "    t.start()\n",
        "\n",
        "for t in hilos:\n",
        "    t.join()  # Esperar a que todos los procesos terminen\n",
        "\n",
        "end = time.time()\n",
        "\n",
        "delta = end - start\n",
        "\n",
        "print(f\"Todos los hilos han finalizado en {delta} s\")"
      ],
      "metadata": {
        "colab": {
          "base_uri": "https://localhost:8080/",
          "height": 0
        },
        "id": "p9nC2lWocTYl",
        "outputId": "8430ce31-b4bc-4c56-a647-1255476b63d9"
      },
      "execution_count": 7,
      "outputs": [
        {
          "output_type": "stream",
          "name": "stdout",
          "text": [
            "Hilo 0 ejecutándose\n",
            "Hilo 1 ejecutándose\n",
            "Hilo 2 ejecutándose\n",
            "Hilo 3 ejecutándose\n",
            "Hilo 4 ejecutándose\n",
            "¡Descarga exitosa!\n",
            "Hilo 0 terminado\n",
            "¡Descarga exitosa!\n",
            "Hilo 2 terminado\n",
            "¡Descarga exitosa!\n",
            "Hilo 4 terminado\n",
            "¡Descarga exitosa!\n",
            "Hilo 3 terminado\n",
            "¡Descarga exitosa!\n",
            "Hilo 1 terminado\n",
            "Todos los hilos han finalizado en 3.634617328643799 s\n"
          ]
        }
      ]
    },
    {
      "cell_type": "markdown",
      "source": [
        "### Ejemplo de la descarga en paralelo con Multiprocessing"
      ],
      "metadata": {
        "id": "x5sEgU4Wb3NB"
      }
    },
    {
      "cell_type": "code",
      "source": [
        "import requests\n",
        "import time\n",
        "from multiprocessing import Process\n",
        "\n",
        "def tarea_proceso(num):\n",
        "    print(f\"Proceso {num} ejecutándose\")\n",
        "\n",
        "    # URL del archivo que quieres descargar\n",
        "    url = 'https://archive.ics.uci.edu/static/public/360/air+quality.zip'\n",
        "\n",
        "    # Realizar la petición GET para obtener el contenido del archivo\n",
        "    respuesta = requests.get(url)\n",
        "\n",
        "    # Verificar si la petición fue exitosa (código de estado 200)\n",
        "    if respuesta.status_code == 200:\n",
        "        # Escribir el contenido descargado en un archivo local\n",
        "        with open(f'source_{num}.zip', 'wb') as archivo:\n",
        "            archivo.write(respuesta.content)\n",
        "        print(\"¡Descarga exitosa!\")\n",
        "    else:\n",
        "        print(\"Error al descargar el archivo:\", respuesta.status_code)\n",
        "    print(f\"Proceso {num} terminado\")\n",
        "\n",
        "start = time.time()\n",
        "procesos = []\n",
        "for i in range(5):  # Crear 5 procesos\n",
        "    p = Process(target=tarea_proceso, args=(i,))\n",
        "    procesos.append(p)\n",
        "    p.start()\n",
        "\n",
        "for p in procesos:\n",
        "    p.join()  # Esperar a que todos los procesos terminen\n",
        "\n",
        "end = time.time()\n",
        "\n",
        "delta = end - start\n",
        "\n",
        "print(f\"Todos los procesos han finalizado en {delta} s\")"
      ],
      "metadata": {
        "colab": {
          "base_uri": "https://localhost:8080/",
          "height": 0
        },
        "id": "dO3XhM7Mak7Z",
        "outputId": "34d0989f-73b5-4420-a0d3-d83c1158a470"
      },
      "execution_count": 8,
      "outputs": [
        {
          "output_type": "stream",
          "name": "stdout",
          "text": [
            "Proceso 0 ejecutándose\n",
            "Proceso 1 ejecutándose\n",
            "Proceso 2 ejecutándose\n",
            "Proceso 3 ejecutándose\n",
            "Proceso 4 ejecutándose\n",
            "¡Descarga exitosa!\n",
            "Proceso 2 terminado\n",
            "¡Descarga exitosa!\n",
            "Proceso 0 terminado\n",
            "¡Descarga exitosa!\n",
            "Proceso 4 terminado\n",
            "¡Descarga exitosa!\n",
            "Proceso 3 terminado¡Descarga exitosa!\n",
            "\n",
            "Proceso 1 terminado\n",
            "Todos los procesos han finalizado en 2.4124584197998047 s\n"
          ]
        }
      ]
    },
    {
      "cell_type": "markdown",
      "source": [
        "### Ejemplo de la descarga en secuencial con Asyncio"
      ],
      "metadata": {
        "id": "cTNQUdU7c1va"
      }
    },
    {
      "cell_type": "code",
      "source": [
        "import requests\n",
        "import asyncio\n",
        "import time\n",
        "\n",
        "async def tarea_asincrona(num):\n",
        "    print(f\"Tarea {num} ejecutándose\")\n",
        "\n",
        "    # URL del archivo que quieres descargar\n",
        "    url = 'https://archive.ics.uci.edu/static/public/360/air+quality.zip'\n",
        "\n",
        "    # Realizar la petición GET para obtener el contenido del archivo\n",
        "    respuesta = requests.get(url)\n",
        "\n",
        "    # Verificar si la petición fue exitosa (código de estado 200)\n",
        "    if respuesta.status_code == 200:\n",
        "        # Escribir el contenido descargado en un archivo local\n",
        "        with open(f'source_{num}.zip', 'wb') as archivo:\n",
        "            archivo.write(respuesta.content)\n",
        "        print(\"¡Descarga exitosa!\")\n",
        "    else:\n",
        "        print(\"Error al descargar el archivo:\", respuesta.status_code)\n",
        "    print(f\"Tarea {num} terminada\")\n",
        "\n",
        "async def main():\n",
        "    start = time.time()\n",
        "    print(\"Ejecutando tareas\")\n",
        "\n",
        "    # Ejecutar tareas asincrónicas\n",
        "    await asyncio.gather(\n",
        "      tarea_asincrona(1),\n",
        "      tarea_asincrona(2),\n",
        "      tarea_asincrona(3),\n",
        "      tarea_asincrona(4),\n",
        "      tarea_asincrona(5),\n",
        "    )\n",
        "\n",
        "    end = time.time()\n",
        "\n",
        "    delta = end - start\n",
        "\n",
        "    print(f\"Todas los tareas han finalizado en {delta} s\")\n",
        "\n",
        "# Ejecutar el bucle de eventos\n",
        "# asyncio.run(main()) # <<< FUERA DE COLAB\n",
        "\n",
        "await main()"
      ],
      "metadata": {
        "colab": {
          "base_uri": "https://localhost:8080/",
          "height": 0
        },
        "id": "lzNH0otec1Np",
        "outputId": "b4d43055-eae0-4040-de0a-5930b572aedb"
      },
      "execution_count": 10,
      "outputs": [
        {
          "output_type": "stream",
          "name": "stdout",
          "text": [
            "Ejecutando tareas\n",
            "Tarea 1 ejecutándose\n",
            "¡Descarga exitosa!\n",
            "Tarea 1 terminada\n",
            "Tarea 2 ejecutándose\n",
            "¡Descarga exitosa!\n",
            "Tarea 2 terminada\n",
            "Tarea 3 ejecutándose\n",
            "¡Descarga exitosa!\n",
            "Tarea 3 terminada\n",
            "Tarea 4 ejecutándose\n",
            "¡Descarga exitosa!\n",
            "Tarea 4 terminada\n",
            "Tarea 5 ejecutándose\n",
            "¡Descarga exitosa!\n",
            "Tarea 5 terminada\n",
            "Todas los tareas han finalizado en 8.887385368347168 s\n"
          ]
        }
      ]
    },
    {
      "cell_type": "markdown",
      "source": [
        "### Ejemplo de la descarga en paralelo con Asyncio"
      ],
      "metadata": {
        "id": "kEGYp2lAgAW5"
      }
    },
    {
      "cell_type": "code",
      "source": [
        "import asyncio\n",
        "import time\n",
        "import aiohttp\n",
        "\n",
        "async def tarea_asincrona(num):\n",
        "    print(f\"Tarea {num} ejecutándose\")\n",
        "\n",
        "    url = 'https://archive.ics.uci.edu/static/public/360/air+quality.zip'\n",
        "\n",
        "    async with aiohttp.ClientSession() as session:\n",
        "        async with session.get(url) as respuesta:\n",
        "            if respuesta.status == 200:\n",
        "                # Escribir el contenido descargado en un archivo local\n",
        "                contenido = await respuesta.read()\n",
        "                with open(f'source_{num}.zip', 'wb') as archivo:\n",
        "                    archivo.write(contenido)\n",
        "                print(\"¡Descarga exitosa!\")\n",
        "            else:\n",
        "                print(f\"Error al descargar el archivo {num}: {respuesta.status}\")\n",
        "\n",
        "    print(f\"Tarea {num} terminada\")\n",
        "\n",
        "async def main():\n",
        "    start = time.time()\n",
        "    print(\"Ejecutando tareas\")\n",
        "\n",
        "    # Ejecutar tareas asincrónicas\n",
        "    await asyncio.gather(\n",
        "        tarea_asincrona(1),\n",
        "        tarea_asincrona(2),\n",
        "        tarea_asincrona(3),\n",
        "        tarea_asincrona(4),\n",
        "        tarea_asincrona(5),\n",
        "    )\n",
        "\n",
        "    end = time.time()\n",
        "    delta = end - start\n",
        "    print(f\"Todas las tareas han finalizado en {delta} s\")\n",
        "\n",
        "# Ejecutar el bucle de eventos\n",
        "await main()\n"
      ],
      "metadata": {
        "colab": {
          "base_uri": "https://localhost:8080/",
          "height": 0
        },
        "id": "V69e_8VKf8AK",
        "outputId": "bbc1bff3-6e3a-411a-e5aa-83c59803788e"
      },
      "execution_count": 14,
      "outputs": [
        {
          "output_type": "stream",
          "name": "stdout",
          "text": [
            "Ejecutando tareas\n",
            "Tarea 1 ejecutándose\n",
            "Tarea 2 ejecutándose\n",
            "Tarea 3 ejecutándose\n",
            "Tarea 4 ejecutándose\n",
            "Tarea 5 ejecutándose\n",
            "¡Descarga exitosa!\n",
            "Tarea 3 terminada\n",
            "¡Descarga exitosa!\n",
            "Tarea 5 terminada\n",
            "¡Descarga exitosa!\n",
            "Tarea 1 terminada\n",
            "¡Descarga exitosa!\n",
            "Tarea 4 terminada\n",
            "¡Descarga exitosa!\n",
            "Tarea 2 terminada\n",
            "Todas las tareas han finalizado en 2.7320001125335693 s\n"
          ]
        }
      ]
    },
    {
      "cell_type": "markdown",
      "source": [
        "### Ejemplo sin bloqueos en asyncio"
      ],
      "metadata": {
        "id": "H2tkhaeak64-"
      }
    },
    {
      "cell_type": "code",
      "source": [
        "import asyncio\n",
        "\n",
        "contador = 0\n",
        "\n",
        "async def incrementar(num):\n",
        "    global contador\n",
        "    print(f\"Llamando a incrementar: {contador} ({num})\")\n",
        "    await asyncio.sleep(5)\n",
        "    contador += 1\n",
        "    print(f\"I Contador: {contador} ({num})\")\n",
        "    print(f\"Finalizando incrementar: {contador} ({num})\")\n",
        "\n",
        "async def decrementar(num):\n",
        "    global contador\n",
        "    print(f\"Llamando a decrementar: {contador} ({num})\")\n",
        "    await asyncio.sleep(1)\n",
        "    contador -= 1\n",
        "    print(f\"D Contador: {contador} ({num})\")\n",
        "    print(f\"Finalizando decrementar: {contador} ({num})\")\n",
        "\n",
        "async def main():\n",
        "    await asyncio.gather(\n",
        "        incrementar(1),\n",
        "        incrementar(2),\n",
        "        decrementar(3),\n",
        "    )\n",
        "\n",
        "# asyncio.run(main())\n",
        "await main()"
      ],
      "metadata": {
        "colab": {
          "base_uri": "https://localhost:8080/",
          "height": 0
        },
        "id": "iCOvCqkhk93q",
        "outputId": "ca39ce2e-16d7-4bf0-d053-431355e8d296"
      },
      "execution_count": 31,
      "outputs": [
        {
          "output_type": "stream",
          "name": "stdout",
          "text": [
            "Llamando a incrementar: 0 (1)\n",
            "Llamando a incrementar: 0 (2)\n",
            "Llamando a decrementar: 0 (3)\n",
            "D Contador: -1 (3)\n",
            "Finalizando decrementar: -1 (3)\n",
            "I Contador: 0 (1)\n",
            "Finalizando incrementar: 0 (1)\n",
            "I Contador: 1 (2)\n",
            "Finalizando incrementar: 1 (2)\n"
          ]
        }
      ]
    },
    {
      "cell_type": "markdown",
      "source": [
        "### Ejemplo de bloqueos en asyncio"
      ],
      "metadata": {
        "id": "GCxqN_5qjLL_"
      }
    },
    {
      "cell_type": "code",
      "source": [
        "import asyncio\n",
        "\n",
        "contador = 0\n",
        "\n",
        "async def incrementar(num, lock):\n",
        "    global contador\n",
        "    print(f\"Llamando a incrementar: {contador} ({num})\")\n",
        "    async with lock:\n",
        "        await asyncio.sleep(5)\n",
        "        contador += 1\n",
        "        print(f\"I Contador: {contador} ({num})\")\n",
        "    print(f\"Finalizando incrementar: {contador} ({num})\")\n",
        "\n",
        "async def decrementar(num, lock):\n",
        "    global contador\n",
        "    print(f\"Llamando a decrementar: {contador} ({num})\")\n",
        "    async with lock:\n",
        "        await asyncio.sleep(1)\n",
        "        contador -= 1\n",
        "        print(f\"D Contador: {contador} ({num})\")\n",
        "    print(f\"Finalizando decrementar: {contador} ({num})\")\n",
        "\n",
        "async def main():\n",
        "    lock = asyncio.Lock()\n",
        "    await asyncio.gather(\n",
        "        incrementar(1, lock),\n",
        "        incrementar(2, lock),\n",
        "        decrementar(3, lock),\n",
        "    )\n",
        "\n",
        "# asyncio.run(main())\n",
        "await main()"
      ],
      "metadata": {
        "colab": {
          "base_uri": "https://localhost:8080/",
          "height": 0
        },
        "id": "d344unm1jOYm",
        "outputId": "903b76c3-6877-4466-8fc7-6a26d3c8ec5d"
      },
      "execution_count": 26,
      "outputs": [
        {
          "output_type": "stream",
          "name": "stdout",
          "text": [
            "Llamando a incrementar: 0 (1)\n",
            "Llamando a incrementar: 0 (2)\n",
            "Llamando a decrementar: 0 (3)\n",
            "I Contador: 1 (1)\n",
            "Finalizando incrementar: 1 (1)\n",
            "I Contador: 2 (2)\n",
            "Finalizando incrementar: 2 (2)\n",
            "D Contador: 1 (3)\n",
            "Finalizando decrementar: 1 (3)\n"
          ]
        }
      ]
    }
  ]
}