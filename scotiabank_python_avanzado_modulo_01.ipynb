{
  "nbformat": 4,
  "nbformat_minor": 0,
  "metadata": {
    "colab": {
      "provenance": []
    },
    "kernelspec": {
      "name": "python3",
      "display_name": "Python 3"
    },
    "language_info": {
      "name": "python"
    }
  },
  "cells": [
    {
      "cell_type": "markdown",
      "source": [
        "# Curso de Python Avanzado\n",
        "\n",
        "<img src=\"https://amei.mx/wp-content/uploads/2016/08/Scotiabank-logo.jpg\" alt=\"Scotiabank Logo\" height=\"60\">\n",
        "<img src=\"https://www.belatrix.com/wp-content/uploads/2023/08/belatrix-logosweb-1.png\" alt=\"Belatrix Logo\" height=\"60\">\n",
        "\n",
        "\n",
        "**[Scotiabank](https://www.scotiabank.com.mx)** | **[Belatrix](https://www.belatrix.com)**\n",
        "\n",
        "Instructor: [Alan Badillo Salas](alan@nomadacode.com)"
      ],
      "metadata": {
        "id": "2PvybNABwXsq"
      }
    },
    {
      "cell_type": "markdown",
      "source": [
        "## Bienvenida\n",
        "\n",
        "Bienvenidos al curso de **Python Avanzado** para Scotiabank, brindado por Belatrix.\n",
        "\n",
        "En este curso aprenderás a desarrollar una programación avanzada con Python.\n",
        "\n",
        "El curso está dirigido a profesionales relacionados al área de desarrollo, soporte y análisis de datos.\n",
        "\n",
        "Se requieren conocimientos previos de Python Intermedio para poder cubrir satisfactoriamente este curso."
      ],
      "metadata": {
        "id": "qCvejvPbxC7e"
      }
    },
    {
      "cell_type": "markdown",
      "source": [
        "## Temario\n",
        "\n",
        "**Módulo 1: Programación Funcional en Python**\n",
        "\n",
        "1. Introducción a la programación funcional\n",
        "2. Funciones de orden superior\n",
        "3. Lambdas y expresiones generadoras\n",
        "\n",
        "**Módulo 2: Diseño de Patrones Avanzados**\n",
        "\n",
        "1. Patrones de diseño comunes en Python\n",
        "2. Aplicación práctica de patrones en el desarrollo de software\n",
        "\n",
        "**Módulo 3: Manipulación Eficiente de Datos**\n",
        "\n",
        "1. Uso avanzado de NumPy y Pandas\n",
        "2. Operaciones vectorizadas y broadcasting\n",
        "\n",
        "**Módulo 4: Concurrencia y Paralelismo en Python**\n",
        "\n",
        "1. Hilos y procesos en Python\n",
        "2. Multiprocessing y Asyncio\n",
        "\n",
        "**Módulo 5: Optimización de Código**\n",
        "\n",
        "1. Estrategias para mejorar el rendimiento\n",
        "2. Perfilado de código y herramientas de optimización\n",
        "\n",
        "**Módulo 6: Seguridad en Desarrollo Python**\n",
        "\n",
        "1. Principios básicos de seguridad\n",
        "2. Mejores prácticas de codificación segura\n",
        "\n",
        "**Módulo 7: Despliegue y Escalabilidad**\n",
        "\n",
        "1. Configuración de entornos de producción\n",
        "2. Estrategias para escalabilidad horizontal y vertical"
      ],
      "metadata": {
        "id": "U9_Bkk5gx9n3"
      }
    },
    {
      "cell_type": "markdown",
      "source": [
        "## Repaso General de Python"
      ],
      "metadata": {
        "id": "Htc8BedOBoLM"
      }
    },
    {
      "cell_type": "code",
      "source": [
        "# Variables de tipos primitivos\n",
        "\n",
        "nombre = \"Daniela\" # str\n",
        "apellidos = 'González Martínez' # str\n",
        "edad = 23 # int\n",
        "peso = 54.6 # float\n",
        "frecuencia = 43.5 + 2.3j # complex\n",
        "casado = True # bool\n",
        "trabajo = False # bool\n",
        "\n",
        "print(f\"NOMBRE: {nombre} {apellidos}\")\n",
        "print(f\"EDAD: {edad} años | PESO: {peso} kg\")\n",
        "print(f\"CASADO: {casado} | TRABAJO: {trabajo}\")"
      ],
      "metadata": {
        "colab": {
          "base_uri": "https://localhost:8080/"
        },
        "id": "xjAU4tCMBrMF",
        "outputId": "4c072ad5-c45a-4841-e65d-c7d0db0db0a8"
      },
      "execution_count": null,
      "outputs": [
        {
          "output_type": "stream",
          "name": "stdout",
          "text": [
            "NOMBRE: Daniela González Martínez\n",
            "EDAD: 23 años | PESO: 54.6 kg\n",
            "CASADO: True | TRABAJO: False\n"
          ]
        }
      ]
    },
    {
      "cell_type": "code",
      "source": [
        "print(\"NOMBRE: {} {}\".format(nombre, apellidos))\n",
        "print(\"EDAD: {:4} años | PESO: {:>10} kg\".format(edad, peso))\n",
        "bool_to_text = lambda p: \"SI\" if p else \"NO\"\n",
        "print(\"CASADO: {:>7} | TRABAJO: {:>10}\".format(bool_to_text(casado), bool_to_text(trabajo)))"
      ],
      "metadata": {
        "colab": {
          "base_uri": "https://localhost:8080/"
        },
        "id": "_rwa1HpOCzd4",
        "outputId": "fb5e46e8-c923-48e7-de7c-aeaf5bcfa0a6"
      },
      "execution_count": null,
      "outputs": [
        {
          "output_type": "stream",
          "name": "stdout",
          "text": [
            "NOMBRE: Daniela González Martínez\n",
            "EDAD:   23 años | PESO:       54.6 kg\n",
            "CASADO:      SI | TRABAJO:         NO\n"
          ]
        }
      ]
    },
    {
      "cell_type": "code",
      "source": [
        "# Colecciones: listas, tuplas, diccionarios\n",
        "\n",
        "# Listas -> Conjunto secuencial, indexado de valores dinámicos\n",
        "\n",
        "frutas = [\"pera\", \"manzana\", \"piña\"]\n",
        "\n",
        "print(frutas)\n",
        "print(frutas[1]) # 0 - pera, 1 - manzana, 2 - piña\n",
        "\n",
        "frutas.append(\"plátano\")\n",
        "\n",
        "print(frutas)\n",
        "\n",
        "frutas.insert(0, \"melón\")\n",
        "\n",
        "print(frutas)\n",
        "\n",
        "frutas.pop(2) # 2 - manzana\n",
        "\n",
        "print(frutas)\n",
        "\n",
        "print(frutas[2:4]) # [\"piña\", \"plátano\"]\n",
        "\n",
        "print(frutas[0::2]) # [\"melón\", \"piña\"]\n",
        "\n",
        "# Tuplas -> Conjunto secuencial, indexado de valores fijos\n",
        "\n",
        "nombre = \"Daniel\"\n",
        "salario = 10_500\n",
        "\n",
        "datos_daniel = (nombre, salario) # <2-tupla> (<valor 1>, <valor 2>)\n",
        "\n",
        "print(datos_daniel)\n",
        "\n",
        "n, s = datos_daniel # Desacomplar la <2-tupla> en 2-variables\n",
        "\n",
        "print(n) # \"Daniel\"\n",
        "print(s) # \"salario\"\n",
        "\n",
        "t = (8, \"Daniel\", 23, True, False) # Es complejo determinar a qué se refiere cada posición (índice)\n",
        "\n",
        "id, nombre, edad, casado, trabajo = t # Es complejo recordar cada variable acoplada\n",
        "\n",
        "# Diccionarios -> Conjunto no secuencial, indexado de valores dinámicos\n",
        "\n",
        "# Equivale a un \"FRAME\" de información\n",
        "d = {\n",
        "    \"id\": 8,\n",
        "    \"nombre\": \"Daniel\",\n",
        "    \"edad\": 23,\n",
        "    \"casado\": True,\n",
        "    \"trabajo\": False\n",
        "}\n",
        "\n",
        "print(d)\n",
        "\n",
        "print(d[\"nombre\"]) # \"Daniel\"\n",
        "print(d[\"edad\"]) # 23\n",
        "print(d[\"trabajo\"]) # False"
      ],
      "metadata": {
        "colab": {
          "base_uri": "https://localhost:8080/"
        },
        "id": "wvfQxltdDoY9",
        "outputId": "07eae49b-c763-49b4-be74-c95a22984cb8"
      },
      "execution_count": null,
      "outputs": [
        {
          "output_type": "stream",
          "name": "stdout",
          "text": [
            "['pera', 'manzana', 'piña']\n",
            "manzana\n",
            "['pera', 'manzana', 'piña', 'plátano']\n",
            "['melón', 'pera', 'manzana', 'piña', 'plátano']\n",
            "['melón', 'pera', 'piña', 'plátano']\n",
            "['piña', 'plátano']\n",
            "['melón', 'piña']\n",
            "('Daniel', 10500)\n",
            "Daniel\n",
            "10500\n",
            "{'id': 8, 'nombre': 'Daniel', 'edad': 23, 'casado': True, 'trabajo': False}\n",
            "Daniel\n",
            "23\n",
            "False\n"
          ]
        }
      ]
    },
    {
      "cell_type": "markdown",
      "source": [
        "# Módulo 1: Programación Funcional en Python\n",
        "\n",
        "1. Introducción a la programación funcional\n",
        "2. Funciones de orden superior\n",
        "3. Lambdas y expresiones generadoras"
      ],
      "metadata": {
        "id": "-z7r3ZDTyXyF"
      }
    },
    {
      "cell_type": "markdown",
      "source": [
        "## 101. Introducción a la programación funcional"
      ],
      "metadata": {
        "id": "Z2z08CFz2m84"
      }
    },
    {
      "cell_type": "markdown",
      "source": [
        "La programación funcional es un paradigma de programación que trata a la computación como la evaluación de funciones matemáticas y evita cambiar el estado y los datos mutables. Es distinta de la programación imperativa, que enfoca la computación en términos de instrucciones que cambian el estado del programa. La programación funcional ofrece varios beneficios, como la facilidad de pruebas y depuración, debido a que las funciones puras (un concepto clave en este paradigma) siempre producen el mismo resultado para los mismos argumentos y no tienen efectos secundarios (como modificar variables globales o el estado del sistema).\n",
        "\n",
        "Aquí hay algunos conceptos clave en la programación funcional:\n",
        "\n",
        "### 1. **Funciones Puras**\n",
        "   - Son funciones donde el resultado solo depende de los argumentos proporcionados y no producen efectos secundarios (como modificar variables externas). Esto facilita entender y predecir el comportamiento del código.\n",
        "\n",
        "### 2. **Inmutabilidad**\n",
        "   - Los datos nunca cambian después de su creación. Si quieres modificar un objeto, debes crear uno nuevo con los cambios deseados. Esto previene efectos secundarios no deseados y hace que el código sea más seguro y fácil de razonar.\n",
        "\n",
        "### 3. **Funciones de Orden Superior**\n",
        "   - Son funciones que toman otras funciones como argumentos o las devuelven como resultado. Esto permite técnicas como la composición de funciones, donde se combinan varias funciones pequeñas para crear una nueva función.\n",
        "\n",
        "### 4. **Expresiones Lambda**\n",
        "   - Son una forma de crear funciones anónimas en el momento, lo que es útil para operaciones cortas que no requieren la definición de una función nombrada completa.\n",
        "\n",
        "### 5. **Evaluación Perezosa**\n",
        "   - Significa que la evaluación de una expresión se retrasa hasta que su resultado sea realmente necesario. Esto puede mejorar el rendimiento al evitar cálculos innecesarios y permite estructuras de datos infinitas, como listas infinitas.\n",
        "\n",
        "### 6. **Recursividad**\n",
        "   - Dado que la inmutabilidad prohíbe las variables que cambian, la recursividad se utiliza a menudo en lugar de ciclos tradicionales como bucles for o while. La recursividad implica que una función se llame a sí misma dentro de su definición.\n",
        "\n",
        "### 7. **Patrones Comunes**\n",
        "   - Mapa, filtro y reducción son patrones de diseño comunes en la programación funcional que operan en listas o secuencias de datos. Permiten la transformación, selección y agregación de datos de manera expresiva y concisa.\n",
        "\n",
        "### Ejemplo Básico en Python\n",
        "\n",
        "Python no es un lenguaje de programación puramente funcional, pero admite muchos conceptos de programación funcional. Aquí hay un ejemplo simple que muestra el uso de funciones puras y la inmutabilidad:\n",
        "\n",
        "```python\n",
        "# Función pura\n",
        "def sumar(a, b):\n",
        "    return a + b\n",
        "\n",
        "# Uso de funciones de orden superior y expresiones lambda\n",
        "numeros = [1, 2, 3, 4, 5]\n",
        "numeros_cuadrados = list(map(lambda x: x**2, numeros))\n",
        "\n",
        "# La lista original permanece inalterada, demostrando inmutabilidad\n",
        "print(numeros)  # [1, 2, 3, 4, 5]\n",
        "print(numeros_cuadrados)  # [1, 4, 9, 16, 25]\n",
        "```\n",
        "\n",
        "Este ejemplo ilustra cómo la programación funcional puede ser utilizada en Python para escribir código conciso y mantenible."
      ],
      "metadata": {
        "id": "AaVoezgfycsc"
      }
    },
    {
      "cell_type": "code",
      "source": [
        "# Ejemplos 101\n",
        "\n",
        "def suma(a, b):\n",
        "  return a + b\n",
        "\n",
        "suma(5, 6)"
      ],
      "metadata": {
        "id": "6GnKHDajznfo",
        "colab": {
          "base_uri": "https://localhost:8080/"
        },
        "outputId": "59677b51-87a6-445c-9fb6-bd5650b9a50f"
      },
      "execution_count": null,
      "outputs": [
        {
          "output_type": "execute_result",
          "data": {
            "text/plain": [
              "11"
            ]
          },
          "metadata": {},
          "execution_count": 21
        }
      ]
    },
    {
      "cell_type": "code",
      "source": [
        "suma(1000, 2000)"
      ],
      "metadata": {
        "colab": {
          "base_uri": "https://localhost:8080/"
        },
        "id": "5UGt-EcyGvvq",
        "outputId": "acc61688-7ab0-4065-9d50-1af9d5ffdbaf"
      },
      "execution_count": null,
      "outputs": [
        {
          "output_type": "execute_result",
          "data": {
            "text/plain": [
              "3000"
            ]
          },
          "metadata": {},
          "execution_count": 22
        }
      ]
    },
    {
      "cell_type": "code",
      "source": [
        "suma(\"Hola\", \"mundo\")"
      ],
      "metadata": {
        "colab": {
          "base_uri": "https://localhost:8080/",
          "height": 35
        },
        "id": "KJzdPVC3GxfQ",
        "outputId": "4c9e1b46-9f50-4ba9-d5ab-b959fb228261"
      },
      "execution_count": null,
      "outputs": [
        {
          "output_type": "execute_result",
          "data": {
            "text/plain": [
              "'Holamundo'"
            ],
            "application/vnd.google.colaboratory.intrinsic+json": {
              "type": "string"
            }
          },
          "metadata": {},
          "execution_count": 23
        }
      ]
    },
    {
      "cell_type": "code",
      "source": [
        "def concatenar(*valores): # Todos los parámetros los acumula en una lista\n",
        "  buffer = \"\"\n",
        "  for valor in valores:\n",
        "    buffer += valor\n",
        "  return buffer\n",
        "\n",
        "concatenar(\"Hola\", \" \", \"mundo\", \" \", \"😊\")"
      ],
      "metadata": {
        "colab": {
          "base_uri": "https://localhost:8080/",
          "height": 35
        },
        "id": "9DFqAAfyHJsG",
        "outputId": "72770dbf-be62-4bb3-9172-70bf2a6a3643"
      },
      "execution_count": null,
      "outputs": [
        {
          "output_type": "execute_result",
          "data": {
            "text/plain": [
              "'Hola mundo 😊'"
            ],
            "application/vnd.google.colaboratory.intrinsic+json": {
              "type": "string"
            }
          },
          "metadata": {},
          "execution_count": 25
        }
      ]
    },
    {
      "cell_type": "code",
      "source": [
        "def calcular_tamaño(textos): # Definición de la función\n",
        "  # textos = [\"manzana\", \"pera\", ...]\n",
        "\n",
        "  # Necesitamos una lista nueva originalmente vacía\n",
        "  # para guardar los tamaños de cada uno de los textos\n",
        "  tamaños = []\n",
        "\n",
        "  # Si textos es una lista de valores de texto,\n",
        "  # entonces, podemos iterar cada uno de esos valores\n",
        "  # y cada uno representará un texto\n",
        "  for texto in textos:\n",
        "    # Inspeccionamos cada texto y su tamaño en cada iteración\n",
        "    #print(texto, len(texto))\n",
        "    # Necesitamos almacenar el tamaño del texto a una lista (agregación)\n",
        "    tamaños.append(len(texto))\n",
        "\n",
        "  #print(tamaños)\n",
        "\n",
        "  return tamaños\n",
        "\n",
        "frutas = [\"manzana\", \"pera\", \"mango\", \"limón\", \"guanabana\", \"kiwi\"]\n",
        "\n",
        "calcular_tamaño(frutas) # Llamada a la función"
      ],
      "metadata": {
        "colab": {
          "base_uri": "https://localhost:8080/"
        },
        "id": "m6UJ_tKEG3nW",
        "outputId": "d6f34853-66f0-4b3f-83a7-3f75265d8fbe"
      },
      "execution_count": null,
      "outputs": [
        {
          "output_type": "execute_result",
          "data": {
            "text/plain": [
              "[7, 4, 5, 5, 9, 4]"
            ]
          },
          "metadata": {},
          "execution_count": 32
        }
      ]
    },
    {
      "cell_type": "code",
      "source": [
        "frutas = [\"manzana\", \"pera\", \"mango\", \"limón\", \"guanabana\", \"kiwi\"]\n",
        "tamaños = calcular_tamaño(frutas)\n",
        "\n",
        "print(frutas)\n",
        "print(tamaños)"
      ],
      "metadata": {
        "colab": {
          "base_uri": "https://localhost:8080/"
        },
        "id": "WAaD3mjSI8Eb",
        "outputId": "c328c27a-4dee-4f12-c1eb-85e5f8d9e643"
      },
      "execution_count": null,
      "outputs": [
        {
          "output_type": "stream",
          "name": "stdout",
          "text": [
            "['manzana', 'pera', 'mango', 'limón', 'guanabana', 'kiwi']\n",
            "[7, 4, 5, 5, 9, 4]\n"
          ]
        }
      ]
    },
    {
      "cell_type": "code",
      "source": [
        "list(zip(frutas, tamaños)) # relación 1-1 entre frutas y tamaños"
      ],
      "metadata": {
        "colab": {
          "base_uri": "https://localhost:8080/"
        },
        "id": "WPoXmA3-JM-e",
        "outputId": "a649c8f8-8a2d-4c0d-91e4-deab195e6e3e"
      },
      "execution_count": null,
      "outputs": [
        {
          "output_type": "execute_result",
          "data": {
            "text/plain": [
              "[('manzana', 7),\n",
              " ('pera', 4),\n",
              " ('mango', 5),\n",
              " ('limón', 5),\n",
              " ('guanabana', 9),\n",
              " ('kiwi', 4)]"
            ]
          },
          "metadata": {},
          "execution_count": 35
        }
      ]
    },
    {
      "cell_type": "code",
      "source": [
        "dict(zip(frutas, tamaños))"
      ],
      "metadata": {
        "colab": {
          "base_uri": "https://localhost:8080/"
        },
        "id": "l9Mw0i_VJYGO",
        "outputId": "28b8ff3f-3861-44b2-87c1-7f1dbbc60d2c"
      },
      "execution_count": null,
      "outputs": [
        {
          "output_type": "execute_result",
          "data": {
            "text/plain": [
              "{'manzana': 7, 'pera': 4, 'mango': 5, 'limón': 5, 'guanabana': 9, 'kiwi': 4}"
            ]
          },
          "metadata": {},
          "execution_count": 37
        }
      ]
    },
    {
      "cell_type": "code",
      "source": [
        "# Adaptador no genérico\n",
        "def calcular_tamaño_con_info(textos): # Definición de la función\n",
        "  tamaños = []\n",
        "\n",
        "  for texto in textos:\n",
        "    tamaños.append({\n",
        "        \"texto\": texto,\n",
        "        \"tamaño\": len(texto),\n",
        "        \"inicial\": texto[0],\n",
        "        \"terminal\": texto[-1],\n",
        "    })\n",
        "\n",
        "  return tamaños\n",
        "\n",
        "frutas = [\"manzana\", \"pera\", \"mango\", \"limón\", \"guanabana\", \"kiwi\"]\n",
        "\n",
        "calcular_tamaño_con_info(frutas) # Llamada a la función"
      ],
      "metadata": {
        "colab": {
          "base_uri": "https://localhost:8080/"
        },
        "id": "R9GRUu_2JfuF",
        "outputId": "8042a99d-6459-4c2a-f361-bc9e3d0884c8"
      },
      "execution_count": null,
      "outputs": [
        {
          "output_type": "execute_result",
          "data": {
            "text/plain": [
              "[{'texto': 'manzana', 'tamaño': 7, 'inicial': 'm', 'terminal': 'a'},\n",
              " {'texto': 'pera', 'tamaño': 4, 'inicial': 'p', 'terminal': 'a'},\n",
              " {'texto': 'mango', 'tamaño': 5, 'inicial': 'm', 'terminal': 'o'},\n",
              " {'texto': 'limón', 'tamaño': 5, 'inicial': 'l', 'terminal': 'n'},\n",
              " {'texto': 'guanabana', 'tamaño': 9, 'inicial': 'g', 'terminal': 'a'},\n",
              " {'texto': 'kiwi', 'tamaño': 4, 'inicial': 'k', 'terminal': 'i'}]"
            ]
          },
          "metadata": {},
          "execution_count": 38
        }
      ]
    },
    {
      "cell_type": "markdown",
      "source": [
        "## 102. Funciones de orden superior"
      ],
      "metadata": {
        "id": "mz7MhjTm2pto"
      }
    },
    {
      "cell_type": "markdown",
      "source": [
        "Las funciones de orden superior son un concepto fundamental en la programación funcional, que permite una programación más expresiva y flexible. En Python, así como en otros lenguajes que soportan paradigmas de programación funcional, estas funciones son herramientas poderosas que facilitan la escritura de código conciso, legible y eficiente.\n",
        "\n",
        "### Definición\n",
        "\n",
        "Una función de orden superior es una función que cumple al menos uno de los siguientes criterios:\n",
        "\n",
        "- Toma una o más funciones como argumentos.\n",
        "- Devuelve otra función como su resultado.\n",
        "\n",
        "Este concepto permite abstracciones funcionales y operaciones que pueden reducir significativamente la redundancia en el código y mejorar su modularidad.\n",
        "\n",
        "### Ejemplos de Funciones de Orden Superior en Python\n",
        "\n",
        "Python ofrece varias funciones incorporadas que son ejemplos de funciones de orden superior. Algunas de las más utilizadas incluyen `map()`, `filter()`, y `reduce()`.\n",
        "\n",
        "#### `map(function, iterable, ...)`\n",
        "\n",
        "- **Propósito**: Aplica una función dada a cada elemento de un iterable (lista, tupla, etc.) y devuelve un iterador que produce los resultados.\n",
        "- **Ejemplo**:\n",
        "\n",
        "```python\n",
        "def cuadrado(numero):\n",
        "    return numero ** 2\n",
        "\n",
        "numeros = [1, 2, 3, 4, 5]\n",
        "resultados = map(cuadrado, numeros)\n",
        "print(list(resultados))  # [1, 4, 9, 16, 25]\n",
        "```\n",
        "\n",
        "#### `filter(function, iterable)`\n",
        "\n",
        "- **Propósito**: Construye un iterador a partir de aquellos elementos de un iterable para los cuales la función devuelve verdadero.\n",
        "- **Ejemplo**:\n",
        "\n",
        "```python\n",
        "def es_par(numero):\n",
        "    return numero % 2 == 0\n",
        "\n",
        "numeros = [1, 2, 3, 4, 5, 6]\n",
        "resultado = filter(es_par, numeros)\n",
        "print(list(resultado))  # [2, 4, 6]\n",
        "```\n",
        "\n",
        "#### `reduce(function, iterable[, initializer])`\n",
        "\n",
        "- **Propósito**: Aplica una función de dos argumentos acumulativamente a los elementos de un iterable, de izquierda a derecha, para reducir el iterable a un solo valor. `reduce()` no está disponible globalmente en Python 3, se debe importar desde `functools`.\n",
        "- **Ejemplo**:\n",
        "\n",
        "```python\n",
        "from functools import reduce\n",
        "\n",
        "def sumar(a, b):\n",
        "    return a + b\n",
        "\n",
        "numeros = [1, 2, 3, 4, 5]\n",
        "resultado = reduce(sumar, numeros)\n",
        "print(resultado)  # 15\n",
        "```\n",
        "\n",
        "### Ventajas de las Funciones de Orden Superior\n",
        "\n",
        "- **Composición**: Facilitan la composición de funciones, permitiendo crear nuevas operaciones a partir de las existentes de manera clara y concisa.\n",
        "- **Reutilización del Código**: Promueven la reutilización del código al permitir que las funciones sean utilizadas como argumentos.\n",
        "- **Abstracción y Expresividad**: Permiten abstracciones más altas y código más expresivo, especialmente en operaciones que involucran colecciones de datos.\n",
        "\n",
        "Las funciones de orden superior son un pilar de la programación funcional, pero su utilidad no se limita a este paradigma. Son herramientas versátiles que pueden mejorar significativamente la claridad, concisión y expresividad del código en muchos contextos de programación. ¿Te gustaría explorar más ejemplos o conceptos relacionados con la programación funcional?"
      ],
      "metadata": {
        "id": "XgztQfaBzHni"
      }
    },
    {
      "cell_type": "code",
      "execution_count": null,
      "metadata": {
        "id": "2eoWoOvbwQgh",
        "colab": {
          "base_uri": "https://localhost:8080/"
        },
        "outputId": "ef223849-91b1-4685-f6f9-af4d63c9157c"
      },
      "outputs": [
        {
          "output_type": "stream",
          "name": "stdout",
          "text": [
            "[5, 7, 9, 20]\n",
            "[25, 49, 81, 400]\n"
          ]
        }
      ],
      "source": [
        "# Ejemplos 102\n",
        "\n",
        "# Función de adaptación (adaptador o función compuesto)\n",
        "def T(x): # Define cómo transformar un único elemento\n",
        "  return x ** 2\n",
        "\n",
        "X = [5, 7, 9, 20] # x pertenece a X\n",
        "\n",
        "Y = list(map(T, X)) # Y = T(x) para cada x en X\n",
        "\n",
        "print(X)\n",
        "print(Y)"
      ]
    },
    {
      "cell_type": "code",
      "source": [
        "# Adaptador genérico\n",
        "def text_len(text):\n",
        "  return len(text)\n",
        "\n",
        "frutas = [\"mango\", \"fresa\", \"papaya\"]\n",
        "\n",
        "frutas_tamaño = list(map(text_len, frutas))\n",
        "\n",
        "print(frutas)\n",
        "print(frutas_tamaño)"
      ],
      "metadata": {
        "colab": {
          "base_uri": "https://localhost:8080/"
        },
        "id": "HCwQnxk4LZnD",
        "outputId": "a26a19a5-476d-47ee-cb84-5eddf9997ae3"
      },
      "execution_count": null,
      "outputs": [
        {
          "output_type": "stream",
          "name": "stdout",
          "text": [
            "['mango', 'fresa', 'papaya']\n",
            "[5, 5, 6]\n"
          ]
        }
      ]
    },
    {
      "cell_type": "code",
      "source": [
        "def F(x):\n",
        "  return x >= 28 and x <= 48\n",
        "\n",
        "X = [23, 26, 56, 43, 29, 55]\n",
        "\n",
        "Xp = list(filter(F, X))\n",
        "\n",
        "print(X)\n",
        "print(Xp)"
      ],
      "metadata": {
        "colab": {
          "base_uri": "https://localhost:8080/"
        },
        "id": "WixwobGrM4jp",
        "outputId": "3dc3dee9-2a38-4f20-b0f7-a1cc4f8aa7ef"
      },
      "execution_count": null,
      "outputs": [
        {
          "output_type": "stream",
          "name": "stdout",
          "text": [
            "[23, 26, 56, 43, 29, 55]\n",
            "[43, 29]\n"
          ]
        }
      ]
    },
    {
      "cell_type": "code",
      "source": [
        "def R(previo, siguiente):\n",
        "  return previo + siguiente\n",
        "\n",
        "X = [67.8, 43.9, 72.5, 23.4] # 0 | 0 + 67.8, anterior + nuevo\n",
        "\n",
        "from functools import reduce\n",
        "\n",
        "X_suma = reduce(R, X, 0)\n",
        "\n",
        "print(X)\n",
        "print(X_suma)"
      ],
      "metadata": {
        "colab": {
          "base_uri": "https://localhost:8080/"
        },
        "id": "x4WrWg_PN7Pz",
        "outputId": "811a43e5-5ee4-4a74-a3a2-7aa4e2618f80"
      },
      "execution_count": null,
      "outputs": [
        {
          "output_type": "stream",
          "name": "stdout",
          "text": [
            "[67.8, 43.9, 72.5, 23.4]\n",
            "207.6\n"
          ]
        }
      ]
    },
    {
      "cell_type": "markdown",
      "source": [
        "## 103. Lambdas y expresiones generadoras"
      ],
      "metadata": {
        "id": "m8UrC1_Q2vHX"
      }
    },
    {
      "cell_type": "markdown",
      "source": [
        "Las expresiones lambda y las expresiones generadoras son características poderosas de Python que permiten escribir código más conciso y eficiente, especialmente dentro del paradigma de la programación funcional.\n",
        "\n",
        "### Lambdas\n",
        "\n",
        "Las lambdas en Python son pequeñas funciones anónimas definidas mediante la palabra clave `lambda`. La sintaxis general de una lambda es:\n",
        "\n",
        "```python\n",
        "lambda argumentos: expresión\n",
        "```\n",
        "\n",
        "Las lambdas pueden tener cualquier número de argumentos, pero solo una expresión. La expresión es evaluada y devuelta cuando se llama a la lambda. Estas funciones son útiles cuando se necesita una función por un corto período de tiempo, y no se desea definirla con el estándar `def`.\n",
        "\n",
        "#### Ejemplo de Uso de Lambda\n",
        "\n",
        "```python\n",
        "# Definir una función lambda para calcular el cuadrado de un número\n",
        "cuadrado = lambda x: x ** 2\n",
        "\n",
        "print(cuadrado(5))  # Salida: 25\n",
        "\n",
        "# Usar lambda directamente como argumento de una función de orden superior\n",
        "numeros = [1, 2, 3, 4]\n",
        "numeros_cuadrados = list(map(lambda x: x**2, numeros))\n",
        "print(numeros_cuadrados)  # Salida: [1, 4, 9, 16]\n",
        "```\n",
        "\n",
        "### Expresiones Generadoras\n",
        "\n",
        "Las expresiones generadoras proporcionan una manera compacta de generar secuencias de datos sin necesidad de construir una lista en memoria, lo que puede ser muy útil para secuencias grandes. Son similares a las comprensiones de listas pero usan paréntesis en lugar de corchetes, y el resultado es un generador del cual se pueden extraer elementos uno por uno.\n",
        "\n",
        "#### Ejemplo de Uso de Expresión Generadora\n",
        "\n",
        "```python\n",
        "# Crear una expresión generadora para calcular los cuadrados de números del 1 al 5\n",
        "cuadrados = (x**2 for x in range(1, 6))\n",
        "\n",
        "# Acceder a los elementos del generador\n",
        "for cuadrado in cuadrados:\n",
        "    print(cuadrado)\n",
        "# Salida: 1, 4, 9, 16, 25\n",
        "```\n",
        "\n",
        "Las expresiones generadoras son especialmente útiles para operaciones que implican la transformación de datos o el filtrado de grandes conjuntos de datos, ya que no requieren que todos los elementos estén en memoria a la vez.\n",
        "\n",
        "### Combinando Lambdas y Expresiones Generadoras\n",
        "\n",
        "Lambdas y expresiones generadoras pueden ser combinadas para crear operaciones poderosas y eficientes en una sola línea de código. Por ejemplo:\n",
        "\n",
        "```python\n",
        "# Filtrar y calcular el cuadrado de números pares del 1 al 10\n",
        "numeros_cuadrados = (x**2 for x in range(1, 11) if x % 2 == 0)\n",
        "\n",
        "for num in numeros_cuadrados:\n",
        "    print(num)\n",
        "# Salida: 4, 16, 36, 64, 100\n",
        "```\n",
        "\n",
        "Este enfoque permite construir pipelines de procesamiento de datos de manera eficiente y concisa, aprovechando lo mejor de ambos mundos: la flexibilidad de las lambdas y la eficiencia de las expresiones generadoras. ¿Hay algo más sobre estos temas que te gustaría explorar o algún otro concepto de Python avanzado?"
      ],
      "metadata": {
        "id": "mt9rYuxZ0o97"
      }
    },
    {
      "cell_type": "code",
      "source": [
        "# Ejemplos 103\n",
        "\n",
        "frutas = [\"manzana\", \"mango\", \"kiwi\", \"limón\", \"pera\"]\n",
        "\n",
        "frutas_tamaños = list(map(lambda fruta: len(fruta), frutas))\n",
        "\n",
        "print(frutas)\n",
        "print(frutas_tamaños)"
      ],
      "metadata": {
        "id": "bd5W1urY1QiB",
        "colab": {
          "base_uri": "https://localhost:8080/"
        },
        "outputId": "b5e4d492-a4e7-46aa-ec75-995fbbd08934"
      },
      "execution_count": null,
      "outputs": [
        {
          "output_type": "stream",
          "name": "stdout",
          "text": [
            "['manzana', 'mango', 'kiwi', 'limón', 'pera']\n",
            "[7, 5, 4, 5, 4]\n"
          ]
        }
      ]
    },
    {
      "cell_type": "code",
      "source": [
        "frutas = [\"manzana\", \"mango\", \"kiwi\", \"limón\", \"pera\"]\n",
        "\n",
        "frutas_tamaños = list(map(lambda fruta: {\n",
        "    \"nombre\": fruta,\n",
        "    \"tamaño\": len(fruta),\n",
        "    \"inicial\": fruta[0],\n",
        "    \"terminal\": fruta[-1],\n",
        "}, frutas))\n",
        "\n",
        "print(frutas)\n",
        "print(frutas_tamaños)"
      ],
      "metadata": {
        "colab": {
          "base_uri": "https://localhost:8080/"
        },
        "id": "9k7GK61KMnzj",
        "outputId": "033c57a8-a6d8-4436-e5b5-e1e66ce548c3"
      },
      "execution_count": null,
      "outputs": [
        {
          "output_type": "stream",
          "name": "stdout",
          "text": [
            "['manzana', 'mango', 'kiwi', 'limón', 'pera']\n",
            "[{'nombre': 'manzana', 'tamaño': 7, 'inicial': 'm', 'terminal': 'a'}, {'nombre': 'mango', 'tamaño': 5, 'inicial': 'm', 'terminal': 'o'}, {'nombre': 'kiwi', 'tamaño': 4, 'inicial': 'k', 'terminal': 'i'}, {'nombre': 'limón', 'tamaño': 5, 'inicial': 'l', 'terminal': 'n'}, {'nombre': 'pera', 'tamaño': 4, 'inicial': 'p', 'terminal': 'a'}]\n"
          ]
        }
      ]
    },
    {
      "cell_type": "code",
      "source": [
        "print(frutas_tamaños)"
      ],
      "metadata": {
        "colab": {
          "base_uri": "https://localhost:8080/"
        },
        "id": "aAtGIQAINRAW",
        "outputId": "d074f76d-7bac-4a8f-e1e6-f523a52ad8ac"
      },
      "execution_count": null,
      "outputs": [
        {
          "output_type": "stream",
          "name": "stdout",
          "text": [
            "[{'nombre': 'manzana', 'tamaño': 7, 'inicial': 'm', 'terminal': 'a'}, {'nombre': 'mango', 'tamaño': 5, 'inicial': 'm', 'terminal': 'o'}, {'nombre': 'kiwi', 'tamaño': 4, 'inicial': 'k', 'terminal': 'i'}, {'nombre': 'limón', 'tamaño': 5, 'inicial': 'l', 'terminal': 'n'}, {'nombre': 'pera', 'tamaño': 4, 'inicial': 'p', 'terminal': 'a'}]\n"
          ]
        }
      ]
    },
    {
      "cell_type": "code",
      "source": [
        "frutas_inicial_m = list(filter(lambda d: d[\"inicial\"] == \"m\", frutas_tamaños))\n",
        "\n",
        "frutas_inicial_m"
      ],
      "metadata": {
        "colab": {
          "base_uri": "https://localhost:8080/"
        },
        "id": "p0DXYXDtNTZS",
        "outputId": "524dd1fc-8642-46f4-8caf-d17a39e6e90e"
      },
      "execution_count": null,
      "outputs": [
        {
          "output_type": "execute_result",
          "data": {
            "text/plain": [
              "[{'nombre': 'manzana', 'tamaño': 7, 'inicial': 'm', 'terminal': 'a'},\n",
              " {'nombre': 'mango', 'tamaño': 5, 'inicial': 'm', 'terminal': 'o'}]"
            ]
          },
          "metadata": {},
          "execution_count": 50
        }
      ]
    },
    {
      "cell_type": "code",
      "source": [
        "frutas_terminal_a = list(filter(lambda d: d[\"terminal\"] == \"a\", frutas_tamaños))\n",
        "\n",
        "frutas_terminal_a"
      ],
      "metadata": {
        "colab": {
          "base_uri": "https://localhost:8080/"
        },
        "id": "0E-jCphCNoBW",
        "outputId": "84a120c4-0dc3-485c-e165-420c90e828ce"
      },
      "execution_count": null,
      "outputs": [
        {
          "output_type": "execute_result",
          "data": {
            "text/plain": [
              "[{'nombre': 'manzana', 'tamaño': 7, 'inicial': 'm', 'terminal': 'a'},\n",
              " {'nombre': 'pera', 'tamaño': 4, 'inicial': 'p', 'terminal': 'a'}]"
            ]
          },
          "metadata": {},
          "execution_count": 51
        }
      ]
    },
    {
      "cell_type": "code",
      "source": [
        "print(frutas_tamaños)"
      ],
      "metadata": {
        "colab": {
          "base_uri": "https://localhost:8080/"
        },
        "id": "sH-IXyxYNvlK",
        "outputId": "c63b93eb-d090-45e9-cee3-ff2e9e6c8870"
      },
      "execution_count": null,
      "outputs": [
        {
          "output_type": "stream",
          "name": "stdout",
          "text": [
            "[{'nombre': 'manzana', 'tamaño': 7, 'inicial': 'm', 'terminal': 'a'}, {'nombre': 'mango', 'tamaño': 5, 'inicial': 'm', 'terminal': 'o'}, {'nombre': 'kiwi', 'tamaño': 4, 'inicial': 'k', 'terminal': 'i'}, {'nombre': 'limón', 'tamaño': 5, 'inicial': 'l', 'terminal': 'n'}, {'nombre': 'pera', 'tamaño': 4, 'inicial': 'p', 'terminal': 'a'}]\n"
          ]
        }
      ]
    },
    {
      "cell_type": "code",
      "source": [
        "from functools import reduce\n",
        "\n",
        "def reduce_iniciales(iniciales, frutaInfo):\n",
        "  iniciales.append(frutaInfo[\"inicial\"] * frutaInfo[\"tamaño\"])\n",
        "  return iniciales\n",
        "\n",
        "reduce(reduce_iniciales, frutas_tamaños, [])"
      ],
      "metadata": {
        "colab": {
          "base_uri": "https://localhost:8080/"
        },
        "id": "wYT8IRQbMPy4",
        "outputId": "18755fe5-b573-4ef0-bb16-dc4a10cf7a35"
      },
      "execution_count": null,
      "outputs": [
        {
          "output_type": "execute_result",
          "data": {
            "text/plain": [
              "['mmmmmmm', 'mmmmm', 'kkkk', 'lllll', 'pppp']"
            ]
          },
          "metadata": {},
          "execution_count": 61
        }
      ]
    },
    {
      "cell_type": "code",
      "source": [
        "frutas = [\"mango\", \"plátano\", \"piña\", \"fresa\"]\n",
        "\n",
        "# (<result> <generador>)\n",
        "# (<result> for <elemento> in <secuencia>)\n",
        "# Secuencia en frío (no computada hasta su consumo)\n",
        "generador_frutas = (fruta for fruta in frutas)\n",
        "\n",
        "for fruta in generador_frutas:\n",
        "  print(fruta)"
      ],
      "metadata": {
        "colab": {
          "base_uri": "https://localhost:8080/"
        },
        "id": "3mCcAbnoPWOq",
        "outputId": "2dbbe683-e07b-4ef9-f059-bc637a4b770e"
      },
      "execution_count": null,
      "outputs": [
        {
          "output_type": "stream",
          "name": "stdout",
          "text": [
            "mango\n",
            "plátano\n",
            "piña\n",
            "fresa\n"
          ]
        }
      ]
    },
    {
      "cell_type": "code",
      "source": [
        "# Esta función genera un cliente y lo retiene hasta que se lo piden\n",
        "# Cuando piden el siguiente valor en un iterador, entonces genera uno nuevo\n",
        "def generador_clientes(n):\n",
        "  import random\n",
        "\n",
        "  nombres = [\"Ana\", \"Beto\", \"Carlos\", \"Daniela\", \"Edwin\", \"Fabiola\"]\n",
        "  apellidos = [\"Juárez\", \"González\", \"Martínez\", \"Bustamante\", \"Hernández\", \"Ávila\"]\n",
        "\n",
        "  for i in range(n):\n",
        "    cliente = {\n",
        "      \"nombre\": random.choice(nombres),\n",
        "      \"apellido_paterno\": random.choice(apellidos),\n",
        "      \"apellido_materno\": random.choice(apellidos),\n",
        "      \"edad\": random.randint(18, 99),\n",
        "    }\n",
        "\n",
        "    yield cliente\n",
        "\n",
        "for cliente in generador_clientes(5):\n",
        "  print(cliente)"
      ],
      "metadata": {
        "colab": {
          "base_uri": "https://localhost:8080/"
        },
        "id": "ehKIwvzuQ6nd",
        "outputId": "8509ec5d-2c3d-4fe3-c38a-c89bb073e9b5"
      },
      "execution_count": null,
      "outputs": [
        {
          "output_type": "stream",
          "name": "stdout",
          "text": [
            "{'nombre': 'Daniela', 'apellido_paterno': 'Hernández', 'apellido_materno': 'Martínez', 'edad': 63}\n",
            "{'nombre': 'Beto', 'apellido_paterno': 'Hernández', 'apellido_materno': 'Martínez', 'edad': 49}\n",
            "{'nombre': 'Edwin', 'apellido_paterno': 'Juárez', 'apellido_materno': 'Ávila', 'edad': 89}\n",
            "{'nombre': 'Edwin', 'apellido_paterno': 'Juárez', 'apellido_materno': 'González', 'edad': 58}\n",
            "{'nombre': 'Ana', 'apellido_paterno': 'Bustamante', 'apellido_materno': 'Martínez', 'edad': 49}\n"
          ]
        }
      ]
    },
    {
      "cell_type": "markdown",
      "source": [
        "## Ejercicios"
      ],
      "metadata": {
        "id": "cAGLnoVxSn-B"
      }
    },
    {
      "cell_type": "code",
      "source": [
        "from functools import reduce"
      ],
      "metadata": {
        "id": "q4TTUTw0TYoT"
      },
      "execution_count": null,
      "outputs": []
    },
    {
      "cell_type": "code",
      "source": [
        "# [1, 2, 3] -> \"# ## ###\"\n",
        "# [4, 5, 2] -> \"#### ##### ##\"\n",
        "\n",
        "def R(anterior, siguiente):\n",
        "  print(f\"Anterior: {anterior} | Siguiente: {siguiente}\")\n",
        "  nuevo = str(anterior + \" \" + \"#\" * siguiente).strip()\n",
        "  print(f\"Nuevo: {nuevo}\")\n",
        "  return nuevo\n",
        "\n",
        "reduce(R, [3, 5, 2], \"🐍\")"
      ],
      "metadata": {
        "colab": {
          "base_uri": "https://localhost:8080/",
          "height": 139
        },
        "id": "WplGXtjhS4jW",
        "outputId": "d7b754dc-ef14-44f5-f0d9-ba707d43b2e2"
      },
      "execution_count": null,
      "outputs": [
        {
          "output_type": "stream",
          "name": "stdout",
          "text": [
            "Anterior: 🐍 | Siguiente: 3\n",
            "Nuevo: 🐍 ###\n",
            "Anterior: 🐍 ### | Siguiente: 5\n",
            "Nuevo: 🐍 ### #####\n",
            "Anterior: 🐍 ### ##### | Siguiente: 2\n",
            "Nuevo: 🐍 ### ##### ##\n"
          ]
        },
        {
          "output_type": "execute_result",
          "data": {
            "text/plain": [
              "'🐍 ### ##### ##'"
            ],
            "application/vnd.google.colaboratory.intrinsic+json": {
              "type": "string"
            }
          },
          "metadata": {},
          "execution_count": 86
        }
      ]
    },
    {
      "cell_type": "code",
      "source": [
        "# [23, 56, 43, 22, 19] -> 56\n",
        "# [98, 77, 34, 101, 22, 18] -> 101\n",
        "\n",
        "def S(mayor, actual):\n",
        "  if mayor == None:\n",
        "    return actual\n",
        "  if mayor > actual:\n",
        "    return mayor\n",
        "  else:\n",
        "    return actual\n",
        "\n",
        "reduce(S, [98, 77, 34, 101, 22, 18], None)"
      ],
      "metadata": {
        "colab": {
          "base_uri": "https://localhost:8080/"
        },
        "id": "3pvfhZdZU7tE",
        "outputId": "53834c94-42a2-464c-810a-e2df51ad46ac"
      },
      "execution_count": null,
      "outputs": [
        {
          "output_type": "execute_result",
          "data": {
            "text/plain": [
              "101"
            ]
          },
          "metadata": {},
          "execution_count": 90
        }
      ]
    },
    {
      "cell_type": "code",
      "source": [
        "mayor = None\n",
        "\n",
        "for x in [98, 77, 34, 101, 22, 18]:\n",
        "  if mayor == None or mayor < x:\n",
        "    mayor = x\n",
        "\n",
        "mayor"
      ],
      "metadata": {
        "colab": {
          "base_uri": "https://localhost:8080/"
        },
        "id": "EQuW2-JCVv5f",
        "outputId": "38d269cf-af65-4c85-f42b-6df0f52fc2ac"
      },
      "execution_count": null,
      "outputs": [
        {
          "output_type": "execute_result",
          "data": {
            "text/plain": [
              "101"
            ]
          },
          "metadata": {},
          "execution_count": 91
        }
      ]
    },
    {
      "cell_type": "code",
      "source": [
        "# reduce(R<w, x>, X, w_0)\n",
        "reduce(lambda mayor, x: x if mayor == None or mayor < x else mayor, [98, 77, 34, 101, 22, 18], None)"
      ],
      "metadata": {
        "colab": {
          "base_uri": "https://localhost:8080/"
        },
        "id": "aWwBiJZCWCpN",
        "outputId": "07a9c87b-d1d1-41b5-b60b-d913a0fc47cf"
      },
      "execution_count": null,
      "outputs": [
        {
          "output_type": "execute_result",
          "data": {
            "text/plain": [
              "101"
            ]
          },
          "metadata": {},
          "execution_count": 93
        }
      ]
    },
    {
      "cell_type": "code",
      "source": [
        "# map(T<x>, X)\n",
        "list(map(lambda x: x - 50, [98, 77, 34, 101, 22, 18]))"
      ],
      "metadata": {
        "colab": {
          "base_uri": "https://localhost:8080/"
        },
        "id": "Z-6kr0CSWTmv",
        "outputId": "f9116697-eaa4-4a5d-af69-d08498e700df"
      },
      "execution_count": null,
      "outputs": [
        {
          "output_type": "execute_result",
          "data": {
            "text/plain": [
              "[48, 27, -16, 51, -28, -32]"
            ]
          },
          "metadata": {},
          "execution_count": 94
        }
      ]
    },
    {
      "cell_type": "code",
      "source": [
        "# filter(F<x>, X)\n",
        "list(filter(lambda x: x > 50, [98, 77, 34, 101, 22, 18]))"
      ],
      "metadata": {
        "colab": {
          "base_uri": "https://localhost:8080/"
        },
        "id": "ICiknb7TW7Qf",
        "outputId": "04dc6bd0-97d8-4114-a934-d193817ad9ea"
      },
      "execution_count": null,
      "outputs": [
        {
          "output_type": "execute_result",
          "data": {
            "text/plain": [
              "[98, 77, 101]"
            ]
          },
          "metadata": {},
          "execution_count": 95
        }
      ]
    },
    {
      "cell_type": "code",
      "source": [
        "import pandas as pd\n",
        "\n",
        "df = pd.read_csv(\"https://archive.ics.uci.edu/static/public/53/data.csv\")\n",
        "\n",
        "df"
      ],
      "metadata": {
        "colab": {
          "base_uri": "https://localhost:8080/",
          "height": 423
        },
        "id": "MiUiC9uBXxaO",
        "outputId": "a4256c7e-1368-4cfc-8b92-0a5f908aba13"
      },
      "execution_count": null,
      "outputs": [
        {
          "output_type": "execute_result",
          "data": {
            "text/plain": [
              "     sepal length  sepal width  petal length  petal width           class\n",
              "0             5.1          3.5           1.4          0.2     Iris-setosa\n",
              "1             4.9          3.0           1.4          0.2     Iris-setosa\n",
              "2             4.7          3.2           1.3          0.2     Iris-setosa\n",
              "3             4.6          3.1           1.5          0.2     Iris-setosa\n",
              "4             5.0          3.6           1.4          0.2     Iris-setosa\n",
              "..            ...          ...           ...          ...             ...\n",
              "145           6.7          3.0           5.2          2.3  Iris-virginica\n",
              "146           6.3          2.5           5.0          1.9  Iris-virginica\n",
              "147           6.5          3.0           5.2          2.0  Iris-virginica\n",
              "148           6.2          3.4           5.4          2.3  Iris-virginica\n",
              "149           5.9          3.0           5.1          1.8  Iris-virginica\n",
              "\n",
              "[150 rows x 5 columns]"
            ],
            "text/html": [
              "\n",
              "  <div id=\"df-ed578b33-05c3-4e3c-825a-fc9e230d34f3\" class=\"colab-df-container\">\n",
              "    <div>\n",
              "<style scoped>\n",
              "    .dataframe tbody tr th:only-of-type {\n",
              "        vertical-align: middle;\n",
              "    }\n",
              "\n",
              "    .dataframe tbody tr th {\n",
              "        vertical-align: top;\n",
              "    }\n",
              "\n",
              "    .dataframe thead th {\n",
              "        text-align: right;\n",
              "    }\n",
              "</style>\n",
              "<table border=\"1\" class=\"dataframe\">\n",
              "  <thead>\n",
              "    <tr style=\"text-align: right;\">\n",
              "      <th></th>\n",
              "      <th>sepal length</th>\n",
              "      <th>sepal width</th>\n",
              "      <th>petal length</th>\n",
              "      <th>petal width</th>\n",
              "      <th>class</th>\n",
              "    </tr>\n",
              "  </thead>\n",
              "  <tbody>\n",
              "    <tr>\n",
              "      <th>0</th>\n",
              "      <td>5.1</td>\n",
              "      <td>3.5</td>\n",
              "      <td>1.4</td>\n",
              "      <td>0.2</td>\n",
              "      <td>Iris-setosa</td>\n",
              "    </tr>\n",
              "    <tr>\n",
              "      <th>1</th>\n",
              "      <td>4.9</td>\n",
              "      <td>3.0</td>\n",
              "      <td>1.4</td>\n",
              "      <td>0.2</td>\n",
              "      <td>Iris-setosa</td>\n",
              "    </tr>\n",
              "    <tr>\n",
              "      <th>2</th>\n",
              "      <td>4.7</td>\n",
              "      <td>3.2</td>\n",
              "      <td>1.3</td>\n",
              "      <td>0.2</td>\n",
              "      <td>Iris-setosa</td>\n",
              "    </tr>\n",
              "    <tr>\n",
              "      <th>3</th>\n",
              "      <td>4.6</td>\n",
              "      <td>3.1</td>\n",
              "      <td>1.5</td>\n",
              "      <td>0.2</td>\n",
              "      <td>Iris-setosa</td>\n",
              "    </tr>\n",
              "    <tr>\n",
              "      <th>4</th>\n",
              "      <td>5.0</td>\n",
              "      <td>3.6</td>\n",
              "      <td>1.4</td>\n",
              "      <td>0.2</td>\n",
              "      <td>Iris-setosa</td>\n",
              "    </tr>\n",
              "    <tr>\n",
              "      <th>...</th>\n",
              "      <td>...</td>\n",
              "      <td>...</td>\n",
              "      <td>...</td>\n",
              "      <td>...</td>\n",
              "      <td>...</td>\n",
              "    </tr>\n",
              "    <tr>\n",
              "      <th>145</th>\n",
              "      <td>6.7</td>\n",
              "      <td>3.0</td>\n",
              "      <td>5.2</td>\n",
              "      <td>2.3</td>\n",
              "      <td>Iris-virginica</td>\n",
              "    </tr>\n",
              "    <tr>\n",
              "      <th>146</th>\n",
              "      <td>6.3</td>\n",
              "      <td>2.5</td>\n",
              "      <td>5.0</td>\n",
              "      <td>1.9</td>\n",
              "      <td>Iris-virginica</td>\n",
              "    </tr>\n",
              "    <tr>\n",
              "      <th>147</th>\n",
              "      <td>6.5</td>\n",
              "      <td>3.0</td>\n",
              "      <td>5.2</td>\n",
              "      <td>2.0</td>\n",
              "      <td>Iris-virginica</td>\n",
              "    </tr>\n",
              "    <tr>\n",
              "      <th>148</th>\n",
              "      <td>6.2</td>\n",
              "      <td>3.4</td>\n",
              "      <td>5.4</td>\n",
              "      <td>2.3</td>\n",
              "      <td>Iris-virginica</td>\n",
              "    </tr>\n",
              "    <tr>\n",
              "      <th>149</th>\n",
              "      <td>5.9</td>\n",
              "      <td>3.0</td>\n",
              "      <td>5.1</td>\n",
              "      <td>1.8</td>\n",
              "      <td>Iris-virginica</td>\n",
              "    </tr>\n",
              "  </tbody>\n",
              "</table>\n",
              "<p>150 rows × 5 columns</p>\n",
              "</div>\n",
              "    <div class=\"colab-df-buttons\">\n",
              "\n",
              "  <div class=\"colab-df-container\">\n",
              "    <button class=\"colab-df-convert\" onclick=\"convertToInteractive('df-ed578b33-05c3-4e3c-825a-fc9e230d34f3')\"\n",
              "            title=\"Convert this dataframe to an interactive table.\"\n",
              "            style=\"display:none;\">\n",
              "\n",
              "  <svg xmlns=\"http://www.w3.org/2000/svg\" height=\"24px\" viewBox=\"0 -960 960 960\">\n",
              "    <path d=\"M120-120v-720h720v720H120Zm60-500h600v-160H180v160Zm220 220h160v-160H400v160Zm0 220h160v-160H400v160ZM180-400h160v-160H180v160Zm440 0h160v-160H620v160ZM180-180h160v-160H180v160Zm440 0h160v-160H620v160Z\"/>\n",
              "  </svg>\n",
              "    </button>\n",
              "\n",
              "  <style>\n",
              "    .colab-df-container {\n",
              "      display:flex;\n",
              "      gap: 12px;\n",
              "    }\n",
              "\n",
              "    .colab-df-convert {\n",
              "      background-color: #E8F0FE;\n",
              "      border: none;\n",
              "      border-radius: 50%;\n",
              "      cursor: pointer;\n",
              "      display: none;\n",
              "      fill: #1967D2;\n",
              "      height: 32px;\n",
              "      padding: 0 0 0 0;\n",
              "      width: 32px;\n",
              "    }\n",
              "\n",
              "    .colab-df-convert:hover {\n",
              "      background-color: #E2EBFA;\n",
              "      box-shadow: 0px 1px 2px rgba(60, 64, 67, 0.3), 0px 1px 3px 1px rgba(60, 64, 67, 0.15);\n",
              "      fill: #174EA6;\n",
              "    }\n",
              "\n",
              "    .colab-df-buttons div {\n",
              "      margin-bottom: 4px;\n",
              "    }\n",
              "\n",
              "    [theme=dark] .colab-df-convert {\n",
              "      background-color: #3B4455;\n",
              "      fill: #D2E3FC;\n",
              "    }\n",
              "\n",
              "    [theme=dark] .colab-df-convert:hover {\n",
              "      background-color: #434B5C;\n",
              "      box-shadow: 0px 1px 3px 1px rgba(0, 0, 0, 0.15);\n",
              "      filter: drop-shadow(0px 1px 2px rgba(0, 0, 0, 0.3));\n",
              "      fill: #FFFFFF;\n",
              "    }\n",
              "  </style>\n",
              "\n",
              "    <script>\n",
              "      const buttonEl =\n",
              "        document.querySelector('#df-ed578b33-05c3-4e3c-825a-fc9e230d34f3 button.colab-df-convert');\n",
              "      buttonEl.style.display =\n",
              "        google.colab.kernel.accessAllowed ? 'block' : 'none';\n",
              "\n",
              "      async function convertToInteractive(key) {\n",
              "        const element = document.querySelector('#df-ed578b33-05c3-4e3c-825a-fc9e230d34f3');\n",
              "        const dataTable =\n",
              "          await google.colab.kernel.invokeFunction('convertToInteractive',\n",
              "                                                    [key], {});\n",
              "        if (!dataTable) return;\n",
              "\n",
              "        const docLinkHtml = 'Like what you see? Visit the ' +\n",
              "          '<a target=\"_blank\" href=https://colab.research.google.com/notebooks/data_table.ipynb>data table notebook</a>'\n",
              "          + ' to learn more about interactive tables.';\n",
              "        element.innerHTML = '';\n",
              "        dataTable['output_type'] = 'display_data';\n",
              "        await google.colab.output.renderOutput(dataTable, element);\n",
              "        const docLink = document.createElement('div');\n",
              "        docLink.innerHTML = docLinkHtml;\n",
              "        element.appendChild(docLink);\n",
              "      }\n",
              "    </script>\n",
              "  </div>\n",
              "\n",
              "\n",
              "<div id=\"df-940ae991-8410-418b-bef7-0ecb9fda1a00\">\n",
              "  <button class=\"colab-df-quickchart\" onclick=\"quickchart('df-940ae991-8410-418b-bef7-0ecb9fda1a00')\"\n",
              "            title=\"Suggest charts\"\n",
              "            style=\"display:none;\">\n",
              "\n",
              "<svg xmlns=\"http://www.w3.org/2000/svg\" height=\"24px\"viewBox=\"0 0 24 24\"\n",
              "     width=\"24px\">\n",
              "    <g>\n",
              "        <path d=\"M19 3H5c-1.1 0-2 .9-2 2v14c0 1.1.9 2 2 2h14c1.1 0 2-.9 2-2V5c0-1.1-.9-2-2-2zM9 17H7v-7h2v7zm4 0h-2V7h2v10zm4 0h-2v-4h2v4z\"/>\n",
              "    </g>\n",
              "</svg>\n",
              "  </button>\n",
              "\n",
              "<style>\n",
              "  .colab-df-quickchart {\n",
              "      --bg-color: #E8F0FE;\n",
              "      --fill-color: #1967D2;\n",
              "      --hover-bg-color: #E2EBFA;\n",
              "      --hover-fill-color: #174EA6;\n",
              "      --disabled-fill-color: #AAA;\n",
              "      --disabled-bg-color: #DDD;\n",
              "  }\n",
              "\n",
              "  [theme=dark] .colab-df-quickchart {\n",
              "      --bg-color: #3B4455;\n",
              "      --fill-color: #D2E3FC;\n",
              "      --hover-bg-color: #434B5C;\n",
              "      --hover-fill-color: #FFFFFF;\n",
              "      --disabled-bg-color: #3B4455;\n",
              "      --disabled-fill-color: #666;\n",
              "  }\n",
              "\n",
              "  .colab-df-quickchart {\n",
              "    background-color: var(--bg-color);\n",
              "    border: none;\n",
              "    border-radius: 50%;\n",
              "    cursor: pointer;\n",
              "    display: none;\n",
              "    fill: var(--fill-color);\n",
              "    height: 32px;\n",
              "    padding: 0;\n",
              "    width: 32px;\n",
              "  }\n",
              "\n",
              "  .colab-df-quickchart:hover {\n",
              "    background-color: var(--hover-bg-color);\n",
              "    box-shadow: 0 1px 2px rgba(60, 64, 67, 0.3), 0 1px 3px 1px rgba(60, 64, 67, 0.15);\n",
              "    fill: var(--button-hover-fill-color);\n",
              "  }\n",
              "\n",
              "  .colab-df-quickchart-complete:disabled,\n",
              "  .colab-df-quickchart-complete:disabled:hover {\n",
              "    background-color: var(--disabled-bg-color);\n",
              "    fill: var(--disabled-fill-color);\n",
              "    box-shadow: none;\n",
              "  }\n",
              "\n",
              "  .colab-df-spinner {\n",
              "    border: 2px solid var(--fill-color);\n",
              "    border-color: transparent;\n",
              "    border-bottom-color: var(--fill-color);\n",
              "    animation:\n",
              "      spin 1s steps(1) infinite;\n",
              "  }\n",
              "\n",
              "  @keyframes spin {\n",
              "    0% {\n",
              "      border-color: transparent;\n",
              "      border-bottom-color: var(--fill-color);\n",
              "      border-left-color: var(--fill-color);\n",
              "    }\n",
              "    20% {\n",
              "      border-color: transparent;\n",
              "      border-left-color: var(--fill-color);\n",
              "      border-top-color: var(--fill-color);\n",
              "    }\n",
              "    30% {\n",
              "      border-color: transparent;\n",
              "      border-left-color: var(--fill-color);\n",
              "      border-top-color: var(--fill-color);\n",
              "      border-right-color: var(--fill-color);\n",
              "    }\n",
              "    40% {\n",
              "      border-color: transparent;\n",
              "      border-right-color: var(--fill-color);\n",
              "      border-top-color: var(--fill-color);\n",
              "    }\n",
              "    60% {\n",
              "      border-color: transparent;\n",
              "      border-right-color: var(--fill-color);\n",
              "    }\n",
              "    80% {\n",
              "      border-color: transparent;\n",
              "      border-right-color: var(--fill-color);\n",
              "      border-bottom-color: var(--fill-color);\n",
              "    }\n",
              "    90% {\n",
              "      border-color: transparent;\n",
              "      border-bottom-color: var(--fill-color);\n",
              "    }\n",
              "  }\n",
              "</style>\n",
              "\n",
              "  <script>\n",
              "    async function quickchart(key) {\n",
              "      const quickchartButtonEl =\n",
              "        document.querySelector('#' + key + ' button');\n",
              "      quickchartButtonEl.disabled = true;  // To prevent multiple clicks.\n",
              "      quickchartButtonEl.classList.add('colab-df-spinner');\n",
              "      try {\n",
              "        const charts = await google.colab.kernel.invokeFunction(\n",
              "            'suggestCharts', [key], {});\n",
              "      } catch (error) {\n",
              "        console.error('Error during call to suggestCharts:', error);\n",
              "      }\n",
              "      quickchartButtonEl.classList.remove('colab-df-spinner');\n",
              "      quickchartButtonEl.classList.add('colab-df-quickchart-complete');\n",
              "    }\n",
              "    (() => {\n",
              "      let quickchartButtonEl =\n",
              "        document.querySelector('#df-940ae991-8410-418b-bef7-0ecb9fda1a00 button');\n",
              "      quickchartButtonEl.style.display =\n",
              "        google.colab.kernel.accessAllowed ? 'block' : 'none';\n",
              "    })();\n",
              "  </script>\n",
              "</div>\n",
              "\n",
              "  <div id=\"id_ab7141a1-6795-4d81-8f6d-3fef3557f63d\">\n",
              "    <style>\n",
              "      .colab-df-generate {\n",
              "        background-color: #E8F0FE;\n",
              "        border: none;\n",
              "        border-radius: 50%;\n",
              "        cursor: pointer;\n",
              "        display: none;\n",
              "        fill: #1967D2;\n",
              "        height: 32px;\n",
              "        padding: 0 0 0 0;\n",
              "        width: 32px;\n",
              "      }\n",
              "\n",
              "      .colab-df-generate:hover {\n",
              "        background-color: #E2EBFA;\n",
              "        box-shadow: 0px 1px 2px rgba(60, 64, 67, 0.3), 0px 1px 3px 1px rgba(60, 64, 67, 0.15);\n",
              "        fill: #174EA6;\n",
              "      }\n",
              "\n",
              "      [theme=dark] .colab-df-generate {\n",
              "        background-color: #3B4455;\n",
              "        fill: #D2E3FC;\n",
              "      }\n",
              "\n",
              "      [theme=dark] .colab-df-generate:hover {\n",
              "        background-color: #434B5C;\n",
              "        box-shadow: 0px 1px 3px 1px rgba(0, 0, 0, 0.15);\n",
              "        filter: drop-shadow(0px 1px 2px rgba(0, 0, 0, 0.3));\n",
              "        fill: #FFFFFF;\n",
              "      }\n",
              "    </style>\n",
              "    <button class=\"colab-df-generate\" onclick=\"generateWithVariable('df')\"\n",
              "            title=\"Generate code using this dataframe.\"\n",
              "            style=\"display:none;\">\n",
              "\n",
              "  <svg xmlns=\"http://www.w3.org/2000/svg\" height=\"24px\"viewBox=\"0 0 24 24\"\n",
              "       width=\"24px\">\n",
              "    <path d=\"M7,19H8.4L18.45,9,17,7.55,7,17.6ZM5,21V16.75L18.45,3.32a2,2,0,0,1,2.83,0l1.4,1.43a1.91,1.91,0,0,1,.58,1.4,1.91,1.91,0,0,1-.58,1.4L9.25,21ZM18.45,9,17,7.55Zm-12,3A5.31,5.31,0,0,0,4.9,8.1,5.31,5.31,0,0,0,1,6.5,5.31,5.31,0,0,0,4.9,4.9,5.31,5.31,0,0,0,6.5,1,5.31,5.31,0,0,0,8.1,4.9,5.31,5.31,0,0,0,12,6.5,5.46,5.46,0,0,0,6.5,12Z\"/>\n",
              "  </svg>\n",
              "    </button>\n",
              "    <script>\n",
              "      (() => {\n",
              "      const buttonEl =\n",
              "        document.querySelector('#id_ab7141a1-6795-4d81-8f6d-3fef3557f63d button.colab-df-generate');\n",
              "      buttonEl.style.display =\n",
              "        google.colab.kernel.accessAllowed ? 'block' : 'none';\n",
              "\n",
              "      buttonEl.onclick = () => {\n",
              "        google.colab.notebook.generateWithVariable('df');\n",
              "      }\n",
              "      })();\n",
              "    </script>\n",
              "  </div>\n",
              "\n",
              "    </div>\n",
              "  </div>\n"
            ],
            "application/vnd.google.colaboratory.intrinsic+json": {
              "type": "dataframe",
              "variable_name": "df",
              "summary": "{\n  \"name\": \"df\",\n  \"rows\": 150,\n  \"fields\": [\n    {\n      \"column\": \"sepal length\",\n      \"properties\": {\n        \"dtype\": \"number\",\n        \"std\": 0.828066127977863,\n        \"min\": 4.3,\n        \"max\": 7.9,\n        \"num_unique_values\": 35,\n        \"samples\": [\n          6.2,\n          4.5,\n          5.6\n        ],\n        \"semantic_type\": \"\",\n        \"description\": \"\"\n      }\n    },\n    {\n      \"column\": \"sepal width\",\n      \"properties\": {\n        \"dtype\": \"number\",\n        \"std\": 0.4335943113621737,\n        \"min\": 2.0,\n        \"max\": 4.4,\n        \"num_unique_values\": 23,\n        \"samples\": [\n          2.3,\n          4.0,\n          3.5\n        ],\n        \"semantic_type\": \"\",\n        \"description\": \"\"\n      }\n    },\n    {\n      \"column\": \"petal length\",\n      \"properties\": {\n        \"dtype\": \"number\",\n        \"std\": 1.7644204199522626,\n        \"min\": 1.0,\n        \"max\": 6.9,\n        \"num_unique_values\": 43,\n        \"samples\": [\n          6.7,\n          3.8,\n          3.7\n        ],\n        \"semantic_type\": \"\",\n        \"description\": \"\"\n      }\n    },\n    {\n      \"column\": \"petal width\",\n      \"properties\": {\n        \"dtype\": \"number\",\n        \"std\": 0.7631607417008411,\n        \"min\": 0.1,\n        \"max\": 2.5,\n        \"num_unique_values\": 22,\n        \"samples\": [\n          0.2,\n          1.2,\n          1.3\n        ],\n        \"semantic_type\": \"\",\n        \"description\": \"\"\n      }\n    },\n    {\n      \"column\": \"class\",\n      \"properties\": {\n        \"dtype\": \"category\",\n        \"num_unique_values\": 3,\n        \"samples\": [\n          \"Iris-setosa\",\n          \"Iris-versicolor\",\n          \"Iris-virginica\"\n        ],\n        \"semantic_type\": \"\",\n        \"description\": \"\"\n      }\n    }\n  ]\n}"
            }
          },
          "metadata": {},
          "execution_count": 99
        }
      ]
    },
    {
      "cell_type": "code",
      "source": [
        "df[\"sepal length\"].map(lambda x: x ** 2)"
      ],
      "metadata": {
        "colab": {
          "base_uri": "https://localhost:8080/"
        },
        "id": "nZFIo7BxX4F2",
        "outputId": "c6e3d2d3-c697-4f9a-e5af-5abc699ab5bd"
      },
      "execution_count": null,
      "outputs": [
        {
          "output_type": "execute_result",
          "data": {
            "text/plain": [
              "0      26.01\n",
              "1      24.01\n",
              "2      22.09\n",
              "3      21.16\n",
              "4      25.00\n",
              "       ...  \n",
              "145    44.89\n",
              "146    39.69\n",
              "147    42.25\n",
              "148    38.44\n",
              "149    34.81\n",
              "Name: sepal length, Length: 150, dtype: float64"
            ]
          },
          "metadata": {},
          "execution_count": 100
        }
      ]
    }
  ]
}